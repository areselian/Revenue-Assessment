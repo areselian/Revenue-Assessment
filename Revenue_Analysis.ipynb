{
 "cells": [
  {
   "cell_type": "code",
   "execution_count": 323,
   "metadata": {},
   "outputs": [],
   "source": [
    "import pandas as pd\n",
    "import sqlalchemy\n",
    "from sqlalchemy.ext.automap import automap_base\n",
    "from sqlalchemy.orm import Session\n",
    "from sqlalchemy import create_engine, inspect, func\n",
    "from sqlalchemy.types import Integer, Text, String, DateTime\n",
    "import matplotlib.pyplot as plt\n",
    "# pd.set_option(\"display.precision\", 1)\n",
    "import numpy as np\n",
    "import seaborn as sns\n",
    "import pandas.io.sql\n",
    "%matplotlib inline\n",
    "import pyodbc\n",
    "from matplotlib.ticker import StrMethodFormatter"
   ]
  },
  {
   "cell_type": "code",
   "execution_count": 324,
   "metadata": {},
   "outputs": [
    {
     "data": {
      "text/html": [
       "<div>\n",
       "<style scoped>\n",
       "    .dataframe tbody tr th:only-of-type {\n",
       "        vertical-align: middle;\n",
       "    }\n",
       "\n",
       "    .dataframe tbody tr th {\n",
       "        vertical-align: top;\n",
       "    }\n",
       "\n",
       "    .dataframe thead th {\n",
       "        text-align: right;\n",
       "    }\n",
       "</style>\n",
       "<table border=\"1\" class=\"dataframe\">\n",
       "  <thead>\n",
       "    <tr style=\"text-align: right;\">\n",
       "      <th></th>\n",
       "      <th>Account.Account_ID_18_Characters__c</th>\n",
       "      <th>2010 Sum</th>\n",
       "      <th>2011 Sum</th>\n",
       "      <th>2012 Sum</th>\n",
       "      <th>2013 Sum</th>\n",
       "      <th>2014 Sum</th>\n",
       "      <th>2015 Sum</th>\n",
       "      <th>2016 Sum</th>\n",
       "      <th>2017 Sum</th>\n",
       "    </tr>\n",
       "  </thead>\n",
       "  <tbody>\n",
       "    <tr>\n",
       "      <th>0</th>\n",
       "      <td>0013600000VCRPtAAP</td>\n",
       "      <td>nan</td>\n",
       "      <td>nan</td>\n",
       "      <td>nan</td>\n",
       "      <td>nan</td>\n",
       "      <td>25.0</td>\n",
       "      <td>25.0</td>\n",
       "      <td>25.0</td>\n",
       "      <td>nan</td>\n",
       "    </tr>\n",
       "    <tr>\n",
       "      <th>1</th>\n",
       "      <td>0013600000VDLBdAAP</td>\n",
       "      <td>nan</td>\n",
       "      <td>nan</td>\n",
       "      <td>nan</td>\n",
       "      <td>nan</td>\n",
       "      <td>nan</td>\n",
       "      <td>100.0</td>\n",
       "      <td>100.0</td>\n",
       "      <td>50.0</td>\n",
       "    </tr>\n",
       "    <tr>\n",
       "      <th>2</th>\n",
       "      <td>0013600000VAfvJAAT</td>\n",
       "      <td>nan</td>\n",
       "      <td>nan</td>\n",
       "      <td>nan</td>\n",
       "      <td>600.0</td>\n",
       "      <td>nan</td>\n",
       "      <td>250.0</td>\n",
       "      <td>250.0</td>\n",
       "      <td>100.0</td>\n",
       "    </tr>\n",
       "    <tr>\n",
       "      <th>3</th>\n",
       "      <td>0013600000VDKj4AAH</td>\n",
       "      <td>nan</td>\n",
       "      <td>nan</td>\n",
       "      <td>nan</td>\n",
       "      <td>nan</td>\n",
       "      <td>nan</td>\n",
       "      <td>1,000.0</td>\n",
       "      <td>450.0</td>\n",
       "      <td>700.0</td>\n",
       "    </tr>\n",
       "    <tr>\n",
       "      <th>4</th>\n",
       "      <td>0013600000blHyqAAE</td>\n",
       "      <td>nan</td>\n",
       "      <td>nan</td>\n",
       "      <td>nan</td>\n",
       "      <td>nan</td>\n",
       "      <td>nan</td>\n",
       "      <td>nan</td>\n",
       "      <td>1,000.0</td>\n",
       "      <td>5,000.0</td>\n",
       "    </tr>\n",
       "  </tbody>\n",
       "</table>\n",
       "</div>"
      ],
      "text/plain": [
       "  Account.Account_ID_18_Characters__c  2010 Sum  2011 Sum  2012 Sum  2013 Sum  \\\n",
       "0                  0013600000VCRPtAAP       nan       nan       nan       nan   \n",
       "1                  0013600000VDLBdAAP       nan       nan       nan       nan   \n",
       "2                  0013600000VAfvJAAT       nan       nan       nan     600.0   \n",
       "3                  0013600000VDKj4AAH       nan       nan       nan       nan   \n",
       "4                  0013600000blHyqAAE       nan       nan       nan       nan   \n",
       "\n",
       "   2014 Sum  2015 Sum  2016 Sum  2017 Sum  \n",
       "0      25.0      25.0      25.0       nan  \n",
       "1       nan     100.0     100.0      50.0  \n",
       "2       nan     250.0     250.0     100.0  \n",
       "3       nan   1,000.0     450.0     700.0  \n",
       "4       nan       nan   1,000.0   5,000.0  "
      ]
     },
     "execution_count": 324,
     "metadata": {},
     "output_type": "execute_result"
    }
   ],
   "source": [
    "df = \"data_analyst_assessment.csv\"\n",
    "df = pd.read_csv(df)\n",
    "df.head()"
   ]
  },
  {
   "cell_type": "code",
   "execution_count": 325,
   "metadata": {},
   "outputs": [
    {
     "data": {
      "text/html": [
       "<div>\n",
       "<style scoped>\n",
       "    .dataframe tbody tr th:only-of-type {\n",
       "        vertical-align: middle;\n",
       "    }\n",
       "\n",
       "    .dataframe tbody tr th {\n",
       "        vertical-align: top;\n",
       "    }\n",
       "\n",
       "    .dataframe thead th {\n",
       "        text-align: right;\n",
       "    }\n",
       "</style>\n",
       "<table border=\"1\" class=\"dataframe\">\n",
       "  <thead>\n",
       "    <tr style=\"text-align: right;\">\n",
       "      <th></th>\n",
       "      <th>AccountID</th>\n",
       "      <th>TR2010</th>\n",
       "      <th>TR2011</th>\n",
       "      <th>TR2012</th>\n",
       "      <th>TR2013</th>\n",
       "      <th>TR2014</th>\n",
       "      <th>TR2015</th>\n",
       "      <th>TR2016</th>\n",
       "      <th>TR2017</th>\n",
       "    </tr>\n",
       "  </thead>\n",
       "  <tbody>\n",
       "    <tr>\n",
       "      <th>0</th>\n",
       "      <td>0013600000VCRPtAAP</td>\n",
       "      <td>nan</td>\n",
       "      <td>nan</td>\n",
       "      <td>nan</td>\n",
       "      <td>nan</td>\n",
       "      <td>25.0</td>\n",
       "      <td>25.0</td>\n",
       "      <td>25.0</td>\n",
       "      <td>nan</td>\n",
       "    </tr>\n",
       "    <tr>\n",
       "      <th>1</th>\n",
       "      <td>0013600000VDLBdAAP</td>\n",
       "      <td>nan</td>\n",
       "      <td>nan</td>\n",
       "      <td>nan</td>\n",
       "      <td>nan</td>\n",
       "      <td>nan</td>\n",
       "      <td>100.0</td>\n",
       "      <td>100.0</td>\n",
       "      <td>50.0</td>\n",
       "    </tr>\n",
       "    <tr>\n",
       "      <th>2</th>\n",
       "      <td>0013600000VAfvJAAT</td>\n",
       "      <td>nan</td>\n",
       "      <td>nan</td>\n",
       "      <td>nan</td>\n",
       "      <td>600.0</td>\n",
       "      <td>nan</td>\n",
       "      <td>250.0</td>\n",
       "      <td>250.0</td>\n",
       "      <td>100.0</td>\n",
       "    </tr>\n",
       "    <tr>\n",
       "      <th>3</th>\n",
       "      <td>0013600000VDKj4AAH</td>\n",
       "      <td>nan</td>\n",
       "      <td>nan</td>\n",
       "      <td>nan</td>\n",
       "      <td>nan</td>\n",
       "      <td>nan</td>\n",
       "      <td>1,000.0</td>\n",
       "      <td>450.0</td>\n",
       "      <td>700.0</td>\n",
       "    </tr>\n",
       "    <tr>\n",
       "      <th>4</th>\n",
       "      <td>0013600000blHyqAAE</td>\n",
       "      <td>nan</td>\n",
       "      <td>nan</td>\n",
       "      <td>nan</td>\n",
       "      <td>nan</td>\n",
       "      <td>nan</td>\n",
       "      <td>nan</td>\n",
       "      <td>1,000.0</td>\n",
       "      <td>5,000.0</td>\n",
       "    </tr>\n",
       "  </tbody>\n",
       "</table>\n",
       "</div>"
      ],
      "text/plain": [
       "            AccountID  TR2010  TR2011  TR2012  TR2013  TR2014  TR2015  TR2016  \\\n",
       "0  0013600000VCRPtAAP     nan     nan     nan     nan    25.0    25.0    25.0   \n",
       "1  0013600000VDLBdAAP     nan     nan     nan     nan     nan   100.0   100.0   \n",
       "2  0013600000VAfvJAAT     nan     nan     nan   600.0     nan   250.0   250.0   \n",
       "3  0013600000VDKj4AAH     nan     nan     nan     nan     nan 1,000.0   450.0   \n",
       "4  0013600000blHyqAAE     nan     nan     nan     nan     nan     nan 1,000.0   \n",
       "\n",
       "   TR2017  \n",
       "0     nan  \n",
       "1    50.0  \n",
       "2   100.0  \n",
       "3   700.0  \n",
       "4 5,000.0  "
      ]
     },
     "execution_count": 325,
     "metadata": {},
     "output_type": "execute_result"
    }
   ],
   "source": [
    "total_revenue_df = df.rename(columns={\"Account.Account_ID_18_Characters__c\": \"AccountID\",\n",
    "                                    \"2010 Sum\": \"TR2010\",\n",
    "                                     \"2011 Sum\": \"TR2011\",\n",
    "                                     \"2012 Sum\": \"TR2012\",\n",
    "                                     \"2013 Sum\": \"TR2013\",\n",
    "                                    \"2014 Sum\": \"TR2014\",\n",
    "                                    \"2015 Sum\": \"TR2015\",\n",
    "                                    \"2016 Sum\": \"TR2016\",\n",
    "                                    \"2017 Sum\": \"TR2017\"})\n",
    "total_revenue_df.head()\n",
    "        "
   ]
  },
  {
   "cell_type": "code",
   "execution_count": 326,
   "metadata": {},
   "outputs": [
    {
     "data": {
      "text/html": [
       "<div>\n",
       "<style scoped>\n",
       "    .dataframe tbody tr th:only-of-type {\n",
       "        vertical-align: middle;\n",
       "    }\n",
       "\n",
       "    .dataframe tbody tr th {\n",
       "        vertical-align: top;\n",
       "    }\n",
       "\n",
       "    .dataframe thead th {\n",
       "        text-align: right;\n",
       "    }\n",
       "</style>\n",
       "<table border=\"1\" class=\"dataframe\">\n",
       "  <thead>\n",
       "    <tr style=\"text-align: right;\">\n",
       "      <th></th>\n",
       "      <th>AccountID</th>\n",
       "      <th>TR2010</th>\n",
       "      <th>TR2011</th>\n",
       "      <th>TR2012</th>\n",
       "      <th>TR2013</th>\n",
       "      <th>TR2014</th>\n",
       "      <th>TR2015</th>\n",
       "      <th>TR2016</th>\n",
       "      <th>TR2017</th>\n",
       "    </tr>\n",
       "  </thead>\n",
       "  <tbody>\n",
       "    <tr>\n",
       "      <th>0</th>\n",
       "      <td>0013600000V973CAAR</td>\n",
       "      <td>22,780.0</td>\n",
       "      <td>30,345.0</td>\n",
       "      <td>5,100.0</td>\n",
       "      <td>0.0</td>\n",
       "      <td>0.0</td>\n",
       "      <td>0.0</td>\n",
       "      <td>0.0</td>\n",
       "      <td>0.0</td>\n",
       "    </tr>\n",
       "    <tr>\n",
       "      <th>1</th>\n",
       "      <td>0013600000V973GAAR</td>\n",
       "      <td>0.0</td>\n",
       "      <td>0.0</td>\n",
       "      <td>0.0</td>\n",
       "      <td>0.0</td>\n",
       "      <td>0.0</td>\n",
       "      <td>0.0</td>\n",
       "      <td>0.0</td>\n",
       "      <td>25,000.0</td>\n",
       "    </tr>\n",
       "    <tr>\n",
       "      <th>2</th>\n",
       "      <td>0013600000V973HAAR</td>\n",
       "      <td>0.0</td>\n",
       "      <td>0.0</td>\n",
       "      <td>0.0</td>\n",
       "      <td>0.0</td>\n",
       "      <td>495.17</td>\n",
       "      <td>0.0</td>\n",
       "      <td>0.0</td>\n",
       "      <td>0.0</td>\n",
       "    </tr>\n",
       "    <tr>\n",
       "      <th>3</th>\n",
       "      <td>0013600000V973MAAR</td>\n",
       "      <td>0.0</td>\n",
       "      <td>0.0</td>\n",
       "      <td>1,714,396.2</td>\n",
       "      <td>0.0</td>\n",
       "      <td>0.0</td>\n",
       "      <td>0.0</td>\n",
       "      <td>0.0</td>\n",
       "      <td>0.0</td>\n",
       "    </tr>\n",
       "    <tr>\n",
       "      <th>4</th>\n",
       "      <td>0013600000V9744AAB</td>\n",
       "      <td>0.0</td>\n",
       "      <td>0.0</td>\n",
       "      <td>0.0</td>\n",
       "      <td>40.0</td>\n",
       "      <td>0.0</td>\n",
       "      <td>0.0</td>\n",
       "      <td>48.0</td>\n",
       "      <td>0.0</td>\n",
       "    </tr>\n",
       "  </tbody>\n",
       "</table>\n",
       "</div>"
      ],
      "text/plain": [
       "            AccountID   TR2010   TR2011      TR2012  TR2013  TR2014  TR2015  \\\n",
       "0  0013600000V973CAAR 22,780.0 30,345.0     5,100.0     0.0     0.0     0.0   \n",
       "1  0013600000V973GAAR      0.0      0.0         0.0     0.0     0.0     0.0   \n",
       "2  0013600000V973HAAR      0.0      0.0         0.0     0.0  495.17     0.0   \n",
       "3  0013600000V973MAAR      0.0      0.0 1,714,396.2     0.0     0.0     0.0   \n",
       "4  0013600000V9744AAB      0.0      0.0         0.0    40.0     0.0     0.0   \n",
       "\n",
       "   TR2016   TR2017  \n",
       "0     0.0      0.0  \n",
       "1     0.0 25,000.0  \n",
       "2     0.0      0.0  \n",
       "3     0.0      0.0  \n",
       "4    48.0      0.0  "
      ]
     },
     "execution_count": 326,
     "metadata": {},
     "output_type": "execute_result"
    }
   ],
   "source": [
    "# total_revenue_df['AccountID'].value_counts(normalize=False)\n",
    "tr_df_updated = total_revenue_df.groupby('AccountID', as_index=False).sum()\n",
    "tr_df_updated.head()"
   ]
  },
  {
   "cell_type": "code",
   "execution_count": 328,
   "metadata": {},
   "outputs": [
    {
     "data": {
      "text/html": [
       "<div>\n",
       "<style scoped>\n",
       "    .dataframe tbody tr th:only-of-type {\n",
       "        vertical-align: middle;\n",
       "    }\n",
       "\n",
       "    .dataframe tbody tr th {\n",
       "        vertical-align: top;\n",
       "    }\n",
       "\n",
       "    .dataframe thead th {\n",
       "        text-align: right;\n",
       "    }\n",
       "</style>\n",
       "<table border=\"1\" class=\"dataframe\">\n",
       "  <thead>\n",
       "    <tr style=\"text-align: right;\">\n",
       "      <th></th>\n",
       "      <th>AccountID</th>\n",
       "      <th>TR2010</th>\n",
       "      <th>TR2011</th>\n",
       "      <th>TR2012</th>\n",
       "      <th>TR2013</th>\n",
       "      <th>TR2014</th>\n",
       "      <th>TR2015</th>\n",
       "      <th>TR2016</th>\n",
       "      <th>TR2017</th>\n",
       "    </tr>\n",
       "  </thead>\n",
       "  <tbody>\n",
       "    <tr>\n",
       "      <th>68874</th>\n",
       "      <td>0013600000VAxBeAAL</td>\n",
       "      <td>1,227,518,579.42</td>\n",
       "      <td>1,343,684,737.9899998</td>\n",
       "      <td>2,335,929,628.2700005</td>\n",
       "      <td>2,145,227,374.0100002</td>\n",
       "      <td>1,979,136,648.6499982</td>\n",
       "      <td>2,050,426,097.439998</td>\n",
       "      <td>1,941,337,397.9299994</td>\n",
       "      <td>1,861,123,129.8100019</td>\n",
       "    </tr>\n",
       "    <tr>\n",
       "      <th>231728</th>\n",
       "      <td>0013600000VCtbEAAT</td>\n",
       "      <td>0.0</td>\n",
       "      <td>59,007,000.0</td>\n",
       "      <td>1,899,495.0</td>\n",
       "      <td>405,795,000.0</td>\n",
       "      <td>27,061,125.0</td>\n",
       "      <td>0.0</td>\n",
       "      <td>390,000,000.0</td>\n",
       "      <td>0.0</td>\n",
       "    </tr>\n",
       "    <tr>\n",
       "      <th>748</th>\n",
       "      <td>0013600000V9B8LAAV</td>\n",
       "      <td>124,320,676.79000026</td>\n",
       "      <td>3,303,285.799999995</td>\n",
       "      <td>3,310,138.6499999943</td>\n",
       "      <td>386,006,489.4300006</td>\n",
       "      <td>294,362,524.4399998</td>\n",
       "      <td>298,152,000.0</td>\n",
       "      <td>168,771,000.0</td>\n",
       "      <td>101,101,000.0</td>\n",
       "    </tr>\n",
       "    <tr>\n",
       "      <th>17</th>\n",
       "      <td>0013600000V979DAAR</td>\n",
       "      <td>151,607,480.22</td>\n",
       "      <td>152,933,751.8100003</td>\n",
       "      <td>154,066,963.6800004</td>\n",
       "      <td>161,086,155.29999995</td>\n",
       "      <td>165,943,604.60999998</td>\n",
       "      <td>129,563,782.7399995</td>\n",
       "      <td>146,475,000.0</td>\n",
       "      <td>91,863,450.0</td>\n",
       "    </tr>\n",
       "    <tr>\n",
       "      <th>1069</th>\n",
       "      <td>0013600000V9BtLAAV</td>\n",
       "      <td>1,337,980.0</td>\n",
       "      <td>2,565,300.0</td>\n",
       "      <td>59,127,650.0</td>\n",
       "      <td>96,523,688.0</td>\n",
       "      <td>164,875,352.0</td>\n",
       "      <td>55,607,766.65999951</td>\n",
       "      <td>100,038,601.7000018</td>\n",
       "      <td>22,171,234.0</td>\n",
       "    </tr>\n",
       "  </tbody>\n",
       "</table>\n",
       "</div>"
      ],
      "text/plain": [
       "                 AccountID               TR2010                TR2011  \\\n",
       "68874   0013600000VAxBeAAL     1,227,518,579.42 1,343,684,737.9899998   \n",
       "231728  0013600000VCtbEAAT                  0.0          59,007,000.0   \n",
       "748     0013600000V9B8LAAV 124,320,676.79000026   3,303,285.799999995   \n",
       "17      0013600000V979DAAR       151,607,480.22   152,933,751.8100003   \n",
       "1069    0013600000V9BtLAAV          1,337,980.0           2,565,300.0   \n",
       "\n",
       "                      TR2012                TR2013                TR2014  \\\n",
       "68874  2,335,929,628.2700005 2,145,227,374.0100002 1,979,136,648.6499982   \n",
       "231728           1,899,495.0         405,795,000.0          27,061,125.0   \n",
       "748     3,310,138.6499999943   386,006,489.4300006   294,362,524.4399998   \n",
       "17       154,066,963.6800004  161,086,155.29999995  165,943,604.60999998   \n",
       "1069            59,127,650.0          96,523,688.0         164,875,352.0   \n",
       "\n",
       "                     TR2015                TR2016                TR2017  \n",
       "68874  2,050,426,097.439998 1,941,337,397.9299994 1,861,123,129.8100019  \n",
       "231728                  0.0         390,000,000.0                   0.0  \n",
       "748           298,152,000.0         168,771,000.0         101,101,000.0  \n",
       "17      129,563,782.7399995         146,475,000.0          91,863,450.0  \n",
       "1069    55,607,766.65999951   100,038,601.7000018          22,171,234.0  "
      ]
     },
     "execution_count": 328,
     "metadata": {},
     "output_type": "execute_result"
    }
   ],
   "source": [
    "tr_df_sorted = tr_df_updated.sort_values(by='TR2013', ascending=False)\n",
    "pd.set_option('display.float_format', lambda x:  \"{:,}\".format(x))\n",
    "tr_df_sorted.head()"
   ]
  },
  {
   "cell_type": "code",
   "execution_count": 330,
   "metadata": {},
   "outputs": [
    {
     "data": {
      "text/html": [
       "<div>\n",
       "<style scoped>\n",
       "    .dataframe tbody tr th:only-of-type {\n",
       "        vertical-align: middle;\n",
       "    }\n",
       "\n",
       "    .dataframe tbody tr th {\n",
       "        vertical-align: top;\n",
       "    }\n",
       "\n",
       "    .dataframe thead th {\n",
       "        text-align: right;\n",
       "    }\n",
       "</style>\n",
       "<table border=\"1\" class=\"dataframe\">\n",
       "  <thead>\n",
       "    <tr style=\"text-align: right;\">\n",
       "      <th></th>\n",
       "      <th>TR2010</th>\n",
       "      <th>TR2011</th>\n",
       "      <th>TR2012</th>\n",
       "      <th>TR2013</th>\n",
       "      <th>TR2014</th>\n",
       "      <th>TR2015</th>\n",
       "      <th>TR2016</th>\n",
       "      <th>TR2017</th>\n",
       "    </tr>\n",
       "    <tr>\n",
       "      <th>AccountID</th>\n",
       "      <th></th>\n",
       "      <th></th>\n",
       "      <th></th>\n",
       "      <th></th>\n",
       "      <th></th>\n",
       "      <th></th>\n",
       "      <th></th>\n",
       "      <th></th>\n",
       "    </tr>\n",
       "  </thead>\n",
       "  <tbody>\n",
       "    <tr>\n",
       "      <th>0013600000VAxBeAAL</th>\n",
       "      <td>1,227,518,579.42</td>\n",
       "      <td>1,343,684,737.9899998</td>\n",
       "      <td>2,335,929,628.2700005</td>\n",
       "      <td>2,145,227,374.0100002</td>\n",
       "      <td>1,979,136,648.6499982</td>\n",
       "      <td>2,050,426,097.439998</td>\n",
       "      <td>1,941,337,397.9299994</td>\n",
       "      <td>1,861,123,129.8100019</td>\n",
       "    </tr>\n",
       "    <tr>\n",
       "      <th>0013600000VCtbEAAT</th>\n",
       "      <td>0.0</td>\n",
       "      <td>59,007,000.0</td>\n",
       "      <td>1,899,495.0</td>\n",
       "      <td>405,795,000.0</td>\n",
       "      <td>27,061,125.0</td>\n",
       "      <td>0.0</td>\n",
       "      <td>390,000,000.0</td>\n",
       "      <td>0.0</td>\n",
       "    </tr>\n",
       "    <tr>\n",
       "      <th>0013600000V9B8LAAV</th>\n",
       "      <td>124,320,676.79000026</td>\n",
       "      <td>3,303,285.799999995</td>\n",
       "      <td>3,310,138.6499999943</td>\n",
       "      <td>386,006,489.4300006</td>\n",
       "      <td>294,362,524.4399998</td>\n",
       "      <td>298,152,000.0</td>\n",
       "      <td>168,771,000.0</td>\n",
       "      <td>101,101,000.0</td>\n",
       "    </tr>\n",
       "    <tr>\n",
       "      <th>0013600000V979DAAR</th>\n",
       "      <td>151,607,480.22</td>\n",
       "      <td>152,933,751.8100003</td>\n",
       "      <td>154,066,963.6800004</td>\n",
       "      <td>161,086,155.29999995</td>\n",
       "      <td>165,943,604.60999998</td>\n",
       "      <td>129,563,782.7399995</td>\n",
       "      <td>146,475,000.0</td>\n",
       "      <td>91,863,450.0</td>\n",
       "    </tr>\n",
       "    <tr>\n",
       "      <th>0013600000V9BtLAAV</th>\n",
       "      <td>1,337,980.0</td>\n",
       "      <td>2,565,300.0</td>\n",
       "      <td>59,127,650.0</td>\n",
       "      <td>96,523,688.0</td>\n",
       "      <td>164,875,352.0</td>\n",
       "      <td>55,607,766.65999951</td>\n",
       "      <td>100,038,601.7000018</td>\n",
       "      <td>22,171,234.0</td>\n",
       "    </tr>\n",
       "  </tbody>\n",
       "</table>\n",
       "</div>"
      ],
      "text/plain": [
       "                                 TR2010                TR2011  \\\n",
       "AccountID                                                       \n",
       "0013600000VAxBeAAL     1,227,518,579.42 1,343,684,737.9899998   \n",
       "0013600000VCtbEAAT                  0.0          59,007,000.0   \n",
       "0013600000V9B8LAAV 124,320,676.79000026   3,303,285.799999995   \n",
       "0013600000V979DAAR       151,607,480.22   152,933,751.8100003   \n",
       "0013600000V9BtLAAV          1,337,980.0           2,565,300.0   \n",
       "\n",
       "                                  TR2012                TR2013  \\\n",
       "AccountID                                                        \n",
       "0013600000VAxBeAAL 2,335,929,628.2700005 2,145,227,374.0100002   \n",
       "0013600000VCtbEAAT           1,899,495.0         405,795,000.0   \n",
       "0013600000V9B8LAAV  3,310,138.6499999943   386,006,489.4300006   \n",
       "0013600000V979DAAR   154,066,963.6800004  161,086,155.29999995   \n",
       "0013600000V9BtLAAV          59,127,650.0          96,523,688.0   \n",
       "\n",
       "                                  TR2014               TR2015  \\\n",
       "AccountID                                                       \n",
       "0013600000VAxBeAAL 1,979,136,648.6499982 2,050,426,097.439998   \n",
       "0013600000VCtbEAAT          27,061,125.0                  0.0   \n",
       "0013600000V9B8LAAV   294,362,524.4399998        298,152,000.0   \n",
       "0013600000V979DAAR  165,943,604.60999998  129,563,782.7399995   \n",
       "0013600000V9BtLAAV         164,875,352.0  55,607,766.65999951   \n",
       "\n",
       "                                  TR2016                TR2017  \n",
       "AccountID                                                       \n",
       "0013600000VAxBeAAL 1,941,337,397.9299994 1,861,123,129.8100019  \n",
       "0013600000VCtbEAAT         390,000,000.0                   0.0  \n",
       "0013600000V9B8LAAV         168,771,000.0         101,101,000.0  \n",
       "0013600000V979DAAR         146,475,000.0          91,863,450.0  \n",
       "0013600000V9BtLAAV   100,038,601.7000018          22,171,234.0  "
      ]
     },
     "execution_count": 330,
     "metadata": {},
     "output_type": "execute_result"
    }
   ],
   "source": [
    "tr_df_sorted.head()\n",
    "tr_df_sorted.set_index(\"AccountID\", append=False).head()"
   ]
  },
  {
   "cell_type": "code",
   "execution_count": 331,
   "metadata": {},
   "outputs": [
    {
     "data": {
      "text/html": [
       "<div>\n",
       "<style scoped>\n",
       "    .dataframe tbody tr th:only-of-type {\n",
       "        vertical-align: middle;\n",
       "    }\n",
       "\n",
       "    .dataframe tbody tr th {\n",
       "        vertical-align: top;\n",
       "    }\n",
       "\n",
       "    .dataframe thead th {\n",
       "        text-align: right;\n",
       "    }\n",
       "</style>\n",
       "<table border=\"1\" class=\"dataframe\">\n",
       "  <thead>\n",
       "    <tr style=\"text-align: right;\">\n",
       "      <th></th>\n",
       "      <th>TR2010</th>\n",
       "      <th>TR2011</th>\n",
       "      <th>TR2012</th>\n",
       "      <th>TR2013</th>\n",
       "      <th>TR2014</th>\n",
       "      <th>TR2015</th>\n",
       "      <th>TR2016</th>\n",
       "      <th>TR2017</th>\n",
       "    </tr>\n",
       "  </thead>\n",
       "  <tbody>\n",
       "    <tr>\n",
       "      <th>68874</th>\n",
       "      <td>0.0</td>\n",
       "      <td>0.09463494933403616</td>\n",
       "      <td>0.7384506664593711</td>\n",
       "      <td>-0.08163869833751591</td>\n",
       "      <td>-0.07742336657280968</td>\n",
       "      <td>0.03602047834272959</td>\n",
       "      <td>-0.053202941401398585</td>\n",
       "      <td>-0.04131907632621101</td>\n",
       "    </tr>\n",
       "    <tr>\n",
       "      <th>231728</th>\n",
       "      <td>0.0</td>\n",
       "      <td>inf</td>\n",
       "      <td>-0.967808988764045</td>\n",
       "      <td>212.63309721794477</td>\n",
       "      <td>-0.9333133109082172</td>\n",
       "      <td>-1.0</td>\n",
       "      <td>inf</td>\n",
       "      <td>-1.0</td>\n",
       "    </tr>\n",
       "    <tr>\n",
       "      <th>748</th>\n",
       "      <td>0.0</td>\n",
       "      <td>-0.9734293129245118</td>\n",
       "      <td>0.0020745555834131846</td>\n",
       "      <td>115.6133900252188</td>\n",
       "      <td>-0.23741560698973618</td>\n",
       "      <td>0.012873498646641002</td>\n",
       "      <td>-0.4339430894308943</td>\n",
       "      <td>-0.40095751047277084</td>\n",
       "    </tr>\n",
       "    <tr>\n",
       "      <th>17</th>\n",
       "      <td>0.0</td>\n",
       "      <td>0.008748061692442466</td>\n",
       "      <td>0.007409821943085149</td>\n",
       "      <td>0.04555935583035531</td>\n",
       "      <td>0.03015435622604401</td>\n",
       "      <td>-0.21923003273009645</td>\n",
       "      <td>0.13052426304916454</td>\n",
       "      <td>-0.3728387096774194</td>\n",
       "    </tr>\n",
       "    <tr>\n",
       "      <th>1069</th>\n",
       "      <td>0.0</td>\n",
       "      <td>0.9172932330827068</td>\n",
       "      <td>22.04901960784314</td>\n",
       "      <td>0.6324627817949808</td>\n",
       "      <td>0.7081335723516906</td>\n",
       "      <td>-0.6627284431210827</td>\n",
       "      <td>0.7990041267376209</td>\n",
       "      <td>-0.7783732117079402</td>\n",
       "    </tr>\n",
       "  </tbody>\n",
       "</table>\n",
       "</div>"
      ],
      "text/plain": [
       "        TR2010               TR2011                TR2012  \\\n",
       "68874      0.0  0.09463494933403616    0.7384506664593711   \n",
       "231728     0.0                  inf    -0.967808988764045   \n",
       "748        0.0  -0.9734293129245118 0.0020745555834131846   \n",
       "17         0.0 0.008748061692442466  0.007409821943085149   \n",
       "1069       0.0   0.9172932330827068     22.04901960784314   \n",
       "\n",
       "                     TR2013               TR2014               TR2015  \\\n",
       "68874  -0.08163869833751591 -0.07742336657280968  0.03602047834272959   \n",
       "231728   212.63309721794477  -0.9333133109082172                 -1.0   \n",
       "748       115.6133900252188 -0.23741560698973618 0.012873498646641002   \n",
       "17      0.04555935583035531  0.03015435622604401 -0.21923003273009645   \n",
       "1069     0.6324627817949808   0.7081335723516906  -0.6627284431210827   \n",
       "\n",
       "                      TR2016               TR2017  \n",
       "68874  -0.053202941401398585 -0.04131907632621101  \n",
       "231728                   inf                 -1.0  \n",
       "748      -0.4339430894308943 -0.40095751047277084  \n",
       "17       0.13052426304916454  -0.3728387096774194  \n",
       "1069      0.7990041267376209  -0.7783732117079402  "
      ]
     },
     "execution_count": 331,
     "metadata": {},
     "output_type": "execute_result"
    }
   ],
   "source": [
    "# Percent Change per Year\n",
    "AnnualPctChange = tr_df_sorted[['TR2010','TR2011','TR2012','TR2013','TR2014','TR2015','TR2016','TR2017']].pct_change(axis='columns')\n",
    "\n",
    "AnnualPctChangeDf = pd.DataFrame(AnnualPctChange)\n",
    "AnnualPctChangeDf.fillna(0).head()"
   ]
  },
  {
   "cell_type": "code",
   "execution_count": 332,
   "metadata": {},
   "outputs": [],
   "source": [
    "#Clean the table: replace the inf & nan with zero, round the numbers\n",
    "\n",
    "AnnualPctChangeDf = AnnualPctChangeDf.replace([np.inf, -np.inf], np.nan)\n",
    "AnnualPctChangeDf=AnnualPctChangeDf.fillna(0)\n",
    "\n",
    "AnnualPctChangeDf=pd.DataFrame(AnnualPctChangeDf)\n",
    "AnnualPctChangeDf.round(decimals=2)\n",
    "\n",
    "AnnualPctChangeDf.reset_index(drop=True)\n",
    "AnnualPctChangeDf=AnnualPctChangeDf.round(decimals=2)"
   ]
  },
  {
   "cell_type": "code",
   "execution_count": 333,
   "metadata": {},
   "outputs": [],
   "source": [
    "#Connect to the SQL Database\n",
    "connection_string = \"postgres:{Password}@localhost:5432/revenue_total_db\"\n",
    "engine = create_engine(f'postgresql://{connection_string}')\n",
    "conn = engine.connect()"
   ]
  },
  {
   "cell_type": "code",
   "execution_count": 334,
   "metadata": {},
   "outputs": [],
   "source": [
    "tr_df_sorted.to_sql(name = 'TotalAnnualRevenue', con=engine, if_exists='append', index=False)"
   ]
  },
  {
   "cell_type": "code",
   "execution_count": 335,
   "metadata": {},
   "outputs": [],
   "source": [
    "AnnualPctChangeDf.to_sql(name = 'AnnualPctChange', con=engine, if_exists='append', index=False)"
   ]
  },
  {
   "cell_type": "markdown",
   "metadata": {},
   "source": [
    "# Total Revenue 2010-2017"
   ]
  },
  {
   "cell_type": "code",
   "execution_count": 336,
   "metadata": {},
   "outputs": [
    {
     "data": {
      "text/plain": [
       "2218970881.5200005"
      ]
     },
     "execution_count": 336,
     "metadata": {},
     "output_type": "execute_result"
    }
   ],
   "source": [
    "TotalRevenue2010=tr_df_sorted[\"TR2010\"].sum()\n",
    "TotalRevenue2010"
   ]
  },
  {
   "cell_type": "code",
   "execution_count": 337,
   "metadata": {},
   "outputs": [
    {
     "data": {
      "text/plain": [
       "2563089642.15"
      ]
     },
     "execution_count": 337,
     "metadata": {},
     "output_type": "execute_result"
    }
   ],
   "source": [
    "TotalRevenue2011=tr_df_sorted[\"TR2011\"].sum()\n",
    "TotalRevenue2011"
   ]
  },
  {
   "cell_type": "code",
   "execution_count": 338,
   "metadata": {},
   "outputs": [
    {
     "data": {
      "text/plain": [
       "3646200718.1300035"
      ]
     },
     "execution_count": 338,
     "metadata": {},
     "output_type": "execute_result"
    }
   ],
   "source": [
    "TotalRevenue2012=tr_df_sorted[\"TR2012\"].sum()\n",
    "TotalRevenue2012"
   ]
  },
  {
   "cell_type": "code",
   "execution_count": 339,
   "metadata": {},
   "outputs": [
    {
     "data": {
      "text/plain": [
       "4179513793.0200024"
      ]
     },
     "execution_count": 339,
     "metadata": {},
     "output_type": "execute_result"
    }
   ],
   "source": [
    "TotalRevenue2013=tr_df_sorted[\"TR2013\"].sum()\n",
    "TotalRevenue2013"
   ]
  },
  {
   "cell_type": "code",
   "execution_count": 340,
   "metadata": {},
   "outputs": [
    {
     "data": {
      "text/plain": [
       "3789703488.9800005"
      ]
     },
     "execution_count": 340,
     "metadata": {},
     "output_type": "execute_result"
    }
   ],
   "source": [
    "TotalRevenue2014=tr_df_sorted[\"TR2014\"].sum()\n",
    "TotalRevenue2014"
   ]
  },
  {
   "cell_type": "code",
   "execution_count": 341,
   "metadata": {},
   "outputs": [
    {
     "data": {
      "text/plain": [
       "3996024211.8699903"
      ]
     },
     "execution_count": 341,
     "metadata": {},
     "output_type": "execute_result"
    }
   ],
   "source": [
    "TotalRevenue2015=tr_df_sorted[\"TR2015\"].sum()\n",
    "TotalRevenue2015"
   ]
  },
  {
   "cell_type": "code",
   "execution_count": 342,
   "metadata": {},
   "outputs": [
    {
     "data": {
      "text/plain": [
       "4153910973.2718406"
      ]
     },
     "execution_count": 342,
     "metadata": {},
     "output_type": "execute_result"
    }
   ],
   "source": [
    "TotalRevenue2016=tr_df_sorted[\"TR2016\"].sum()\n",
    "TotalRevenue2016"
   ]
  },
  {
   "cell_type": "code",
   "execution_count": 343,
   "metadata": {},
   "outputs": [
    {
     "data": {
      "text/plain": [
       "3653787501.279994"
      ]
     },
     "execution_count": 343,
     "metadata": {},
     "output_type": "execute_result"
    }
   ],
   "source": [
    "TotalRevenue2017=tr_df_sorted[\"TR2017\"].sum()\n",
    "TotalRevenue2017"
   ]
  },
  {
   "cell_type": "markdown",
   "metadata": {},
   "source": [
    "# Percent Change 2010-2017"
   ]
  },
  {
   "cell_type": "code",
   "execution_count": 344,
   "metadata": {},
   "outputs": [
    {
     "data": {
      "text/plain": [
       "15.50803408444357"
      ]
     },
     "execution_count": 344,
     "metadata": {},
     "output_type": "execute_result"
    }
   ],
   "source": [
    "OverallPctChange2011 = ((TotalRevenue2011-TotalRevenue2010)/TotalRevenue2010)*100\n",
    "OverallPctChange2011"
   ]
  },
  {
   "cell_type": "code",
   "execution_count": 345,
   "metadata": {},
   "outputs": [
    {
     "data": {
      "text/plain": [
       "42.25802555510527"
      ]
     },
     "execution_count": 345,
     "metadata": {},
     "output_type": "execute_result"
    }
   ],
   "source": [
    "OverallPctChange2012 = ((TotalRevenue2012-TotalRevenue2011)/TotalRevenue2011)*100\n",
    "OverallPctChange2012"
   ]
  },
  {
   "cell_type": "code",
   "execution_count": 346,
   "metadata": {},
   "outputs": [
    {
     "data": {
      "text/plain": [
       "14.626541875169034"
      ]
     },
     "execution_count": 346,
     "metadata": {},
     "output_type": "execute_result"
    }
   ],
   "source": [
    "OverallPctChange2013 = ((TotalRevenue2013-TotalRevenue2012)/TotalRevenue2012)*100\n",
    "OverallPctChange2013"
   ]
  },
  {
   "cell_type": "code",
   "execution_count": 347,
   "metadata": {},
   "outputs": [
    {
     "data": {
      "text/plain": [
       "-9.32669021671862"
      ]
     },
     "execution_count": 347,
     "metadata": {},
     "output_type": "execute_result"
    }
   ],
   "source": [
    "OverallPctChange2014 = ((TotalRevenue2014-TotalRevenue2013)/TotalRevenue2013)*100\n",
    "OverallPctChange2014"
   ]
  },
  {
   "cell_type": "code",
   "execution_count": 348,
   "metadata": {},
   "outputs": [
    {
     "data": {
      "text/plain": [
       "5.444244476908168"
      ]
     },
     "execution_count": 348,
     "metadata": {},
     "output_type": "execute_result"
    }
   ],
   "source": [
    "OverallPctChange2015 = ((TotalRevenue2015-TotalRevenue2014)/TotalRevenue2014)*100\n",
    "OverallPctChange2015"
   ]
  },
  {
   "cell_type": "code",
   "execution_count": 349,
   "metadata": {},
   "outputs": [
    {
     "data": {
      "text/plain": [
       "3.9510962154046885"
      ]
     },
     "execution_count": 349,
     "metadata": {},
     "output_type": "execute_result"
    }
   ],
   "source": [
    "OverallPctChange2016 = ((TotalRevenue2016-TotalRevenue2015)/TotalRevenue2015)*100\n",
    "OverallPctChange2016"
   ]
  },
  {
   "cell_type": "code",
   "execution_count": 350,
   "metadata": {},
   "outputs": [
    {
     "data": {
      "text/plain": [
       "-12.039821633392465"
      ]
     },
     "execution_count": 350,
     "metadata": {},
     "output_type": "execute_result"
    }
   ],
   "source": [
    "OverallPctChange2017= ((TotalRevenue2017-TotalRevenue2016)/TotalRevenue2016)*100\n",
    "OverallPctChange2017"
   ]
  },
  {
   "cell_type": "markdown",
   "metadata": {},
   "source": [
    "# Table representing the total revenue amounts  "
   ]
  },
  {
   "cell_type": "code",
   "execution_count": 351,
   "metadata": {},
   "outputs": [],
   "source": [
    "RevenueAnnualDifference = pd.DataFrame({\"TR2010\":[TotalRevenue2010],\n",
    "                                  \"TR2011\": [TotalRevenue2011],\n",
    "                                  \"TR2012\": [TotalRevenue2012],\n",
    "                                  \"TR2013\": [TotalRevenue2013],\n",
    "                                  \"TR2014\": [TotalRevenue2014],\n",
    "                                    \"TR2015\": [TotalRevenue2015],\n",
    "                                  \"TR2016\": [TotalRevenue2016],\n",
    "                                    \"TR2017\": [TotalRevenue2017]})\n"
   ]
  },
  {
   "cell_type": "code",
   "execution_count": 352,
   "metadata": {},
   "outputs": [
    {
     "data": {
      "text/html": [
       "<div>\n",
       "<style scoped>\n",
       "    .dataframe tbody tr th:only-of-type {\n",
       "        vertical-align: middle;\n",
       "    }\n",
       "\n",
       "    .dataframe tbody tr th {\n",
       "        vertical-align: top;\n",
       "    }\n",
       "\n",
       "    .dataframe thead th {\n",
       "        text-align: right;\n",
       "    }\n",
       "</style>\n",
       "<table border=\"1\" class=\"dataframe\">\n",
       "  <thead>\n",
       "    <tr style=\"text-align: right;\">\n",
       "      <th></th>\n",
       "      <th>TR2010</th>\n",
       "      <th>TR2011</th>\n",
       "      <th>TR2012</th>\n",
       "      <th>TR2013</th>\n",
       "      <th>TR2014</th>\n",
       "      <th>TR2015</th>\n",
       "      <th>TR2016</th>\n",
       "      <th>TR2017</th>\n",
       "    </tr>\n",
       "  </thead>\n",
       "  <tbody>\n",
       "    <tr>\n",
       "      <th>Total Revenue</th>\n",
       "      <td>2,218,970,881.5200005</td>\n",
       "      <td>2,563,089,642.15</td>\n",
       "      <td>3,646,200,718.1300035</td>\n",
       "      <td>4,179,513,793.0200024</td>\n",
       "      <td>3,789,703,488.9800005</td>\n",
       "      <td>3,996,024,211.8699903</td>\n",
       "      <td>4,153,910,973.2718406</td>\n",
       "      <td>3,653,787,501.279994</td>\n",
       "    </tr>\n",
       "  </tbody>\n",
       "</table>\n",
       "</div>"
      ],
      "text/plain": [
       "                             TR2010           TR2011                TR2012  \\\n",
       "Total Revenue 2,218,970,881.5200005 2,563,089,642.15 3,646,200,718.1300035   \n",
       "\n",
       "                             TR2013                TR2014  \\\n",
       "Total Revenue 4,179,513,793.0200024 3,789,703,488.9800005   \n",
       "\n",
       "                             TR2015                TR2016               TR2017  \n",
       "Total Revenue 3,996,024,211.8699903 4,153,910,973.2718406 3,653,787,501.279994  "
      ]
     },
     "execution_count": 352,
     "metadata": {},
     "output_type": "execute_result"
    }
   ],
   "source": [
    "\n",
    "idx_rename = {0:'Total Revenue'}\n",
    "RevenueAnnualDifference = RevenueAnnualDifference.rename(index=idx_rename)\n",
    "RevenueAnnualDifference"
   ]
  },
  {
   "cell_type": "code",
   "execution_count": 353,
   "metadata": {},
   "outputs": [
    {
     "data": {
      "text/html": [
       "<div>\n",
       "<style scoped>\n",
       "    .dataframe tbody tr th:only-of-type {\n",
       "        vertical-align: middle;\n",
       "    }\n",
       "\n",
       "    .dataframe tbody tr th {\n",
       "        vertical-align: top;\n",
       "    }\n",
       "\n",
       "    .dataframe thead th {\n",
       "        text-align: right;\n",
       "    }\n",
       "</style>\n",
       "<table border=\"1\" class=\"dataframe\">\n",
       "  <thead>\n",
       "    <tr style=\"text-align: right;\">\n",
       "      <th></th>\n",
       "      <th>Total Revenue</th>\n",
       "    </tr>\n",
       "  </thead>\n",
       "  <tbody>\n",
       "    <tr>\n",
       "      <th>TR2010</th>\n",
       "      <td>2,218,970,882.0</td>\n",
       "    </tr>\n",
       "    <tr>\n",
       "      <th>TR2011</th>\n",
       "      <td>2,563,089,642.0</td>\n",
       "    </tr>\n",
       "    <tr>\n",
       "      <th>TR2012</th>\n",
       "      <td>3,646,200,718.0</td>\n",
       "    </tr>\n",
       "    <tr>\n",
       "      <th>TR2013</th>\n",
       "      <td>4,179,513,793.0</td>\n",
       "    </tr>\n",
       "    <tr>\n",
       "      <th>TR2014</th>\n",
       "      <td>3,789,703,489.0</td>\n",
       "    </tr>\n",
       "    <tr>\n",
       "      <th>TR2015</th>\n",
       "      <td>3,996,024,212.0</td>\n",
       "    </tr>\n",
       "    <tr>\n",
       "      <th>TR2016</th>\n",
       "      <td>4,153,910,973.0</td>\n",
       "    </tr>\n",
       "    <tr>\n",
       "      <th>TR2017</th>\n",
       "      <td>3,653,787,501.0</td>\n",
       "    </tr>\n",
       "  </tbody>\n",
       "</table>\n",
       "</div>"
      ],
      "text/plain": [
       "         Total Revenue\n",
       "TR2010 2,218,970,882.0\n",
       "TR2011 2,563,089,642.0\n",
       "TR2012 3,646,200,718.0\n",
       "TR2013 4,179,513,793.0\n",
       "TR2014 3,789,703,489.0\n",
       "TR2015 3,996,024,212.0\n",
       "TR2016 4,153,910,973.0\n",
       "TR2017 3,653,787,501.0"
      ]
     },
     "execution_count": 353,
     "metadata": {},
     "output_type": "execute_result"
    }
   ],
   "source": [
    "RevenueAnnualDifference_t = RevenueAnnualDifference.transpose()\n",
    "RevenueAnnualDifference_t.round(decimals=0)"
   ]
  },
  {
   "cell_type": "code",
   "execution_count": 354,
   "metadata": {},
   "outputs": [
    {
     "data": {
      "image/png": "[encoded data removed]",
      "text/plain": [
       "<Figure size 576x360 with 1 Axes>"
      ]
     },
     "metadata": {
      "needs_background": "light"
     },
     "output_type": "display_data"
    }
   ],
   "source": [
    "ax = RevenueAnnualDifference_t.plot(kind='barh', figsize=(8,5), color= '#86bf91', zorder=2, width=0.85)\n",
    "ax.set_alpha(0.8)\n",
    "ax.set_title(\"Total Revenue Amount (2010 - 2017)\", fontsize=18)\n",
    "ax.set_xlabel(\"Amount in Bllions\", labelpad=20, weight='bold', size=10);\n",
    "\n",
    "# ax.set_xticks([1000000000,2000000000,3000000000,4000000000])\n",
    "\n",
    "ax.tick_params(axis=\"both\", which=\"both\", bottom=\"off\", top=\"off\", labelbottom=\"on\", left=\"off\", right=\"off\", labelleft=\"on\")\n",
    "\n",
    "vals1 = ax.get_xticks()\n",
    "\n",
    "for tick in vals1:\n",
    "    ax.axvline(x=tick, linestyle='dashed', alpha=0.4, color='#eeeeee', zorder=1)   \n",
    "\n",
    "\n",
    "\n",
    "# ax.set_ylabel(\"Neighbourhoods\", labelpad=20, weight='bold', size=10)\n",
    "# ax.xaxis.set_major_formatter(StrMethodFormatter('{x:,g}'))\n",
    "# ax.invert_yaxis()\n",
    "\n",
    "\n",
    "# for i in ax.patches:\n",
    "#     # get_width pulls left or right; get_y pushes up or down\n",
    "#     ax.text(i.get_width()+.6, i.get_y()+.45, \\\n",
    "#             str(round(i.get_width())*100)+'$', fontsize=12,fontweight='bold',\n",
    "# color='dimgrey')\n",
    "    \n",
    "\n"
   ]
  },
  {
   "cell_type": "code",
   "execution_count": 355,
   "metadata": {},
   "outputs": [
    {
     "data": {
      "image/png": "[encoded data removed]",
      "text/plain": [
       "<Figure size 720x576 with 1 Axes>"
      ]
     },
     "metadata": {
      "needs_background": "light"
     },
     "output_type": "display_data"
    }
   ],
   "source": [
    "RevenuePlot= RevenueAnnualDifference_t.plot(figsize=(10,8), color='blue', marker='o', linestyle='dashed', linewidth=2, markersize=12)\n",
    "plt.xlabel(\"Year\")\n",
    "plt.title('Total Revenue Per Year (2010-2017)')\n",
    "plt.ylabel(\"Revenue Amount in Billions\")\n",
    "plt.grid()\n",
    "plt.show()"
   ]
  },
  {
   "cell_type": "markdown",
   "metadata": {},
   "source": [
    "# Percent Change Visualization"
   ]
  },
  {
   "cell_type": "code",
   "execution_count": 356,
   "metadata": {},
   "outputs": [
    {
     "data": {
      "text/html": [
       "<div>\n",
       "<style scoped>\n",
       "    .dataframe tbody tr th:only-of-type {\n",
       "        vertical-align: middle;\n",
       "    }\n",
       "\n",
       "    .dataframe tbody tr th {\n",
       "        vertical-align: top;\n",
       "    }\n",
       "\n",
       "    .dataframe thead th {\n",
       "        text-align: right;\n",
       "    }\n",
       "</style>\n",
       "<table border=\"1\" class=\"dataframe\">\n",
       "  <thead>\n",
       "    <tr style=\"text-align: right;\">\n",
       "      <th></th>\n",
       "      <th>Percent Change</th>\n",
       "    </tr>\n",
       "  </thead>\n",
       "  <tbody>\n",
       "    <tr>\n",
       "      <th>TR2010</th>\n",
       "      <td>0.0</td>\n",
       "    </tr>\n",
       "    <tr>\n",
       "      <th>TR2011</th>\n",
       "      <td>15.51</td>\n",
       "    </tr>\n",
       "    <tr>\n",
       "      <th>TR2012</th>\n",
       "      <td>42.26</td>\n",
       "    </tr>\n",
       "    <tr>\n",
       "      <th>TR2013</th>\n",
       "      <td>14.63</td>\n",
       "    </tr>\n",
       "    <tr>\n",
       "      <th>TR2014</th>\n",
       "      <td>-9.33</td>\n",
       "    </tr>\n",
       "    <tr>\n",
       "      <th>TR2015</th>\n",
       "      <td>5.44</td>\n",
       "    </tr>\n",
       "    <tr>\n",
       "      <th>TR2016</th>\n",
       "      <td>3.95</td>\n",
       "    </tr>\n",
       "    <tr>\n",
       "      <th>TR2017</th>\n",
       "      <td>-12.04</td>\n",
       "    </tr>\n",
       "  </tbody>\n",
       "</table>\n",
       "</div>"
      ],
      "text/plain": [
       "        Percent Change\n",
       "TR2010             0.0\n",
       "TR2011           15.51\n",
       "TR2012           42.26\n",
       "TR2013           14.63\n",
       "TR2014           -9.33\n",
       "TR2015            5.44\n",
       "TR2016            3.95\n",
       "TR2017          -12.04"
      ]
     },
     "execution_count": 356,
     "metadata": {},
     "output_type": "execute_result"
    }
   ],
   "source": [
    "PctChangeSummary = pd.DataFrame({\"TR2010\":[0],\n",
    "                                  \"TR2011\": [ OverallPctChange2011],\n",
    "                                  \"TR2012\": [ OverallPctChange2012],\n",
    "                                  \"TR2013\": [OverallPctChange2013],\n",
    "                                  \"TR2014\": [OverallPctChange2014],\n",
    "                                    \"TR2015\": [OverallPctChange2015],\n",
    "                                  \"TR2016\": [OverallPctChange2016],\n",
    "                                    \"TR2017\": [OverallPctChange2017]})\n",
    "\n",
    "idx_rename = {0:'Percent Change'} \n",
    "PctChangeSummary = PctChangeSummary.rename(index=idx_rename)\n",
    "PctChangeSummary\n",
    "PctChange_t = PctChangeSummary.transpose()\n",
    "PctChange_t.round(decimals=2)"
   ]
  },
  {
   "cell_type": "code",
   "execution_count": 450,
   "metadata": {},
   "outputs": [
    {
     "data": {
      "image/png": "[encoded data removed]",
      "text/plain": [
       "<Figure size 720x576 with 1 Axes>"
      ]
     },
     "metadata": {
      "needs_background": "light"
     },
     "output_type": "display_data"
    }
   ],
   "source": [
    "PctChange_t.plot.line(figsize=(10,8), color='orange', marker='o', linestyle='dashed', linewidth=2, markersize=12)\n",
    "plt.xlabel(\"Year\")\n",
    "plt.title('The Percent Change of Total Revenue per Year (2010-2017)')\n",
    "plt.ylabel(\"Percent Change (%)\")\n",
    "plt.grid()"
   ]
  },
  {
   "cell_type": "markdown",
   "metadata": {},
   "source": [
    "# Gift Sizes Binned by Amounts\n"
   ]
  },
  {
   "cell_type": "code",
   "execution_count": 461,
   "metadata": {},
   "outputs": [],
   "source": [
    "RevenueBins = [-1,0,1000,2500,50000000000]\n",
    "labels = [\"0\",\"1000\",\"1000-2500\",\"<500B\"]"
   ]
  },
  {
   "cell_type": "code",
   "execution_count": 462,
   "metadata": {},
   "outputs": [
    {
     "data": {
      "text/html": [
       "<div>\n",
       "<style scoped>\n",
       "    .dataframe tbody tr th:only-of-type {\n",
       "        vertical-align: middle;\n",
       "    }\n",
       "\n",
       "    .dataframe tbody tr th {\n",
       "        vertical-align: top;\n",
       "    }\n",
       "\n",
       "    .dataframe thead th {\n",
       "        text-align: right;\n",
       "    }\n",
       "</style>\n",
       "<table border=\"1\" class=\"dataframe\">\n",
       "  <thead>\n",
       "    <tr style=\"text-align: right;\">\n",
       "      <th></th>\n",
       "      <th>AccountID</th>\n",
       "      <th>TR2010</th>\n",
       "      <th>TR2011</th>\n",
       "      <th>TR2012</th>\n",
       "      <th>TR2013</th>\n",
       "      <th>TR2014</th>\n",
       "      <th>TR2015</th>\n",
       "      <th>TR2016</th>\n",
       "      <th>TR2017</th>\n",
       "    </tr>\n",
       "  </thead>\n",
       "  <tbody>\n",
       "    <tr>\n",
       "      <th>68874</th>\n",
       "      <td>0013600000VAxBeAAL</td>\n",
       "      <td>1,227,518,579.42</td>\n",
       "      <td>1,343,684,737.99</td>\n",
       "      <td>2,335,929,628.27</td>\n",
       "      <td>2,145,227,374.01</td>\n",
       "      <td>1,979,136,648.65</td>\n",
       "      <td>2,050,426,097.44</td>\n",
       "      <td>1,941,337,397.93</td>\n",
       "      <td>1,861,123,129.81</td>\n",
       "    </tr>\n",
       "    <tr>\n",
       "      <th>231728</th>\n",
       "      <td>0013600000VCtbEAAT</td>\n",
       "      <td>0.0</td>\n",
       "      <td>59,007,000.0</td>\n",
       "      <td>1,899,495.0</td>\n",
       "      <td>405,795,000.0</td>\n",
       "      <td>27,061,125.0</td>\n",
       "      <td>0.0</td>\n",
       "      <td>390,000,000.0</td>\n",
       "      <td>0.0</td>\n",
       "    </tr>\n",
       "    <tr>\n",
       "      <th>748</th>\n",
       "      <td>0013600000V9B8LAAV</td>\n",
       "      <td>124,320,676.79</td>\n",
       "      <td>3,303,285.8</td>\n",
       "      <td>3,310,138.65</td>\n",
       "      <td>386,006,489.43</td>\n",
       "      <td>294,362,524.44</td>\n",
       "      <td>298,152,000.0</td>\n",
       "      <td>168,771,000.0</td>\n",
       "      <td>101,101,000.0</td>\n",
       "    </tr>\n",
       "    <tr>\n",
       "      <th>17</th>\n",
       "      <td>0013600000V979DAAR</td>\n",
       "      <td>151,607,480.22</td>\n",
       "      <td>152,933,751.81</td>\n",
       "      <td>154,066,963.68</td>\n",
       "      <td>161,086,155.3</td>\n",
       "      <td>165,943,604.61</td>\n",
       "      <td>129,563,782.74</td>\n",
       "      <td>146,475,000.0</td>\n",
       "      <td>91,863,450.0</td>\n",
       "    </tr>\n",
       "    <tr>\n",
       "      <th>1069</th>\n",
       "      <td>0013600000V9BtLAAV</td>\n",
       "      <td>1,337,980.0</td>\n",
       "      <td>2,565,300.0</td>\n",
       "      <td>59,127,650.0</td>\n",
       "      <td>96,523,688.0</td>\n",
       "      <td>164,875,352.0</td>\n",
       "      <td>55,607,766.66</td>\n",
       "      <td>100,038,601.7</td>\n",
       "      <td>22,171,234.0</td>\n",
       "    </tr>\n",
       "  </tbody>\n",
       "</table>\n",
       "</div>"
      ],
      "text/plain": [
       "                 AccountID           TR2010           TR2011           TR2012  \\\n",
       "68874   0013600000VAxBeAAL 1,227,518,579.42 1,343,684,737.99 2,335,929,628.27   \n",
       "231728  0013600000VCtbEAAT              0.0     59,007,000.0      1,899,495.0   \n",
       "748     0013600000V9B8LAAV   124,320,676.79      3,303,285.8     3,310,138.65   \n",
       "17      0013600000V979DAAR   151,607,480.22   152,933,751.81   154,066,963.68   \n",
       "1069    0013600000V9BtLAAV      1,337,980.0      2,565,300.0     59,127,650.0   \n",
       "\n",
       "                 TR2013           TR2014           TR2015           TR2016  \\\n",
       "68874  2,145,227,374.01 1,979,136,648.65 2,050,426,097.44 1,941,337,397.93   \n",
       "231728    405,795,000.0     27,061,125.0              0.0    390,000,000.0   \n",
       "748      386,006,489.43   294,362,524.44    298,152,000.0    168,771,000.0   \n",
       "17        161,086,155.3   165,943,604.61   129,563,782.74    146,475,000.0   \n",
       "1069       96,523,688.0    164,875,352.0    55,607,766.66    100,038,601.7   \n",
       "\n",
       "                 TR2017  \n",
       "68874  1,861,123,129.81  \n",
       "231728              0.0  \n",
       "748       101,101,000.0  \n",
       "17         91,863,450.0  \n",
       "1069       22,171,234.0  "
      ]
     },
     "execution_count": 462,
     "metadata": {},
     "output_type": "execute_result"
    }
   ],
   "source": [
    "TotalRevenueCopyDF = tr_df_sorted.copy()\n",
    "TotalRevenueCopyDF.round(decimals=2).head()"
   ]
  },
  {
   "cell_type": "code",
   "execution_count": 463,
   "metadata": {},
   "outputs": [
    {
     "data": {
      "text/plain": [
       "0            355720\n",
       "1000          41702\n",
       "<500B          3816\n",
       "1000-2500      2590\n",
       "Name: Gift Size 2010, dtype: int64"
      ]
     },
     "execution_count": 463,
     "metadata": {},
     "output_type": "execute_result"
    }
   ],
   "source": [
    "TotalRevenueCopyDF[\"Gift Size 2010\"]= pd.cut(TotalRevenueCopyDF[\"TR2010\"], RevenueBins, labels=labels)\n",
    "GiftSizes2010=TotalRevenueCopyDF[\"Gift Size 2010\"].value_counts()\n",
    "GiftSizes2010"
   ]
  },
  {
   "cell_type": "code",
   "execution_count": 464,
   "metadata": {},
   "outputs": [
    {
     "data": {
      "text/plain": [
       "0            352135\n",
       "1000          44879\n",
       "<500B          4063\n",
       "1000-2500      2751\n",
       "Name: Gift Size 2011, dtype: int64"
      ]
     },
     "execution_count": 464,
     "metadata": {},
     "output_type": "execute_result"
    }
   ],
   "source": [
    "TotalRevenueCopyDF[\"Gift Size 2011\"]= pd.cut(TotalRevenueCopyDF[\"TR2011\"], RevenueBins, labels=labels )\n",
    "GiftSizes2011=TotalRevenueCopyDF[\"Gift Size 2011\"].value_counts()\n",
    "GiftSizes2011"
   ]
  },
  {
   "cell_type": "code",
   "execution_count": 465,
   "metadata": {},
   "outputs": [
    {
     "data": {
      "text/plain": [
       "0            346365\n",
       "1000          49939\n",
       "<500B          4542\n",
       "1000-2500      2982\n",
       "Name: Gift Size 2012, dtype: int64"
      ]
     },
     "execution_count": 465,
     "metadata": {},
     "output_type": "execute_result"
    }
   ],
   "source": [
    "TotalRevenueCopyDF[\"Gift Size 2012\"]= pd.cut(TotalRevenueCopyDF[\"TR2012\"], RevenueBins, labels=labels )\n",
    "GiftSizes2012=TotalRevenueCopyDF[\"Gift Size 2012\"].value_counts()\n",
    "GiftSizes2012"
   ]
  },
  {
   "cell_type": "code",
   "execution_count": 466,
   "metadata": {},
   "outputs": [
    {
     "data": {
      "text/plain": [
       "0            347788\n",
       "1000          48457\n",
       "<500B          4451\n",
       "1000-2500      3132\n",
       "Name: Gift Size 2013, dtype: int64"
      ]
     },
     "execution_count": 466,
     "metadata": {},
     "output_type": "execute_result"
    }
   ],
   "source": [
    "TotalRevenueCopyDF[\"Gift Size 2013\"]= pd.cut(TotalRevenueCopyDF[\"TR2013\"], RevenueBins, labels=labels )\n",
    "GiftSizes2013=TotalRevenueCopyDF[\"Gift Size 2013\"].value_counts()\n",
    "GiftSizes2013"
   ]
  },
  {
   "cell_type": "code",
   "execution_count": 467,
   "metadata": {},
   "outputs": [
    {
     "data": {
      "text/plain": [
       "0            337871\n",
       "1000          57288\n",
       "<500B          5185\n",
       "1000-2500      3484\n",
       "Name: Gift Size 2014, dtype: int64"
      ]
     },
     "execution_count": 467,
     "metadata": {},
     "output_type": "execute_result"
    }
   ],
   "source": [
    "TotalRevenueCopyDF[\"Gift Size 2014\"]= pd.cut(TotalRevenueCopyDF[\"TR2014\"], RevenueBins, labels=labels )\n",
    "GiftSizes2014=TotalRevenueCopyDF[\"Gift Size 2014\"].value_counts()\n",
    "GiftSizes2014"
   ]
  },
  {
   "cell_type": "code",
   "execution_count": 468,
   "metadata": {},
   "outputs": [
    {
     "data": {
      "text/plain": [
       "0            326014\n",
       "1000          68342\n",
       "<500B          5679\n",
       "1000-2500      3793\n",
       "Name: Gift Size 2015, dtype: int64"
      ]
     },
     "execution_count": 468,
     "metadata": {},
     "output_type": "execute_result"
    }
   ],
   "source": [
    "TotalRevenueCopyDF[\"Gift Size 2015\"]= pd.cut(TotalRevenueCopyDF[\"TR2015\"], RevenueBins, labels=labels )\n",
    "GiftSizes2015=TotalRevenueCopyDF[\"Gift Size 2015\"].value_counts()\n",
    "GiftSizes2015"
   ]
  },
  {
   "cell_type": "code",
   "execution_count": 469,
   "metadata": {},
   "outputs": [
    {
     "data": {
      "text/plain": [
       "0            319406\n",
       "1000          74907\n",
       "<500B          5690\n",
       "1000-2500      3825\n",
       "Name: Gift Size 2016, dtype: int64"
      ]
     },
     "execution_count": 469,
     "metadata": {},
     "output_type": "execute_result"
    }
   ],
   "source": [
    "TotalRevenueCopyDF[\"Gift Size 2016\"]= pd.cut(TotalRevenueCopyDF[\"TR2016\"], RevenueBins, labels=labels )\n",
    "GiftSizes2016=TotalRevenueCopyDF[\"Gift Size 2016\"].value_counts()\n",
    "GiftSizes2016"
   ]
  },
  {
   "cell_type": "code",
   "execution_count": 470,
   "metadata": {},
   "outputs": [
    {
     "data": {
      "text/html": [
       "<div>\n",
       "<style scoped>\n",
       "    .dataframe tbody tr th:only-of-type {\n",
       "        vertical-align: middle;\n",
       "    }\n",
       "\n",
       "    .dataframe tbody tr th {\n",
       "        vertical-align: top;\n",
       "    }\n",
       "\n",
       "    .dataframe thead th {\n",
       "        text-align: right;\n",
       "    }\n",
       "</style>\n",
       "<table border=\"1\" class=\"dataframe\">\n",
       "  <thead>\n",
       "    <tr style=\"text-align: right;\">\n",
       "      <th></th>\n",
       "      <th>Gift Size 2010</th>\n",
       "      <th>Gift Size 2011</th>\n",
       "      <th>Gift Size 2012</th>\n",
       "      <th>Gift Size 2013</th>\n",
       "      <th>Gift Size 2014</th>\n",
       "      <th>Gift Size 2015</th>\n",
       "      <th>Gift Size 2016</th>\n",
       "      <th>Gift Size 2017</th>\n",
       "    </tr>\n",
       "  </thead>\n",
       "  <tbody>\n",
       "    <tr>\n",
       "      <th>0</th>\n",
       "      <td>355720</td>\n",
       "      <td>352135</td>\n",
       "      <td>346365</td>\n",
       "      <td>347788</td>\n",
       "      <td>337871</td>\n",
       "      <td>326014</td>\n",
       "      <td>319406</td>\n",
       "      <td>311537</td>\n",
       "    </tr>\n",
       "    <tr>\n",
       "      <th>1000</th>\n",
       "      <td>41702</td>\n",
       "      <td>44879</td>\n",
       "      <td>49939</td>\n",
       "      <td>48457</td>\n",
       "      <td>57288</td>\n",
       "      <td>68342</td>\n",
       "      <td>74907</td>\n",
       "      <td>83377</td>\n",
       "    </tr>\n",
       "    <tr>\n",
       "      <th>&lt;500B</th>\n",
       "      <td>3816</td>\n",
       "      <td>4063</td>\n",
       "      <td>4542</td>\n",
       "      <td>4451</td>\n",
       "      <td>5185</td>\n",
       "      <td>5679</td>\n",
       "      <td>5690</td>\n",
       "      <td>5356</td>\n",
       "    </tr>\n",
       "    <tr>\n",
       "      <th>1000-2500</th>\n",
       "      <td>2590</td>\n",
       "      <td>2751</td>\n",
       "      <td>2982</td>\n",
       "      <td>3132</td>\n",
       "      <td>3484</td>\n",
       "      <td>3793</td>\n",
       "      <td>3825</td>\n",
       "      <td>3558</td>\n",
       "    </tr>\n",
       "  </tbody>\n",
       "</table>\n",
       "</div>"
      ],
      "text/plain": [
       "           Gift Size 2010  Gift Size 2011  Gift Size 2012  Gift Size 2013  \\\n",
       "0                  355720          352135          346365          347788   \n",
       "1000                41702           44879           49939           48457   \n",
       "<500B                3816            4063            4542            4451   \n",
       "1000-2500            2590            2751            2982            3132   \n",
       "\n",
       "           Gift Size 2014  Gift Size 2015  Gift Size 2016  Gift Size 2017  \n",
       "0                  337871          326014          319406          311537  \n",
       "1000                57288           68342           74907           83377  \n",
       "<500B                5185            5679            5690            5356  \n",
       "1000-2500            3484            3793            3825            3558  "
      ]
     },
     "execution_count": 470,
     "metadata": {},
     "output_type": "execute_result"
    }
   ],
   "source": [
    "TotalRevenueCopyDF[\"Gift Size 2017\"]= pd.cut(TotalRevenueCopyDF[\"TR2017\"], RevenueBins, labels=labels )\n",
    "GiftSizes2017=TotalRevenueCopyDF[\"Gift Size 2017\"].value_counts()\n",
    "\n",
    "# GiftSizeCount = [GiftSizes2010,GiftSizes2011,GiftSizes2012,GiftSizes2013,GiftSizes2014,GiftSizes2015,GiftSizes2016,GiftSizes2017]\n",
    "GiftSizeCount = pd.DataFrame({\n",
    "                            \"Gift Size 2010\": GiftSizes2010,\n",
    "                             \"Gift Size 2011\": GiftSizes2011,\n",
    "                            \"Gift Size 2012\": GiftSizes2012,\n",
    "                             \"Gift Size 2013\": GiftSizes2013,\n",
    "                             \"Gift Size 2014\": GiftSizes2014,\n",
    "                             \"Gift Size 2015\": GiftSizes2015,\n",
    "                             \"Gift Size 2016\": GiftSizes2016,\n",
    "                             \"Gift Size 2017\": GiftSizes2017,\n",
    "})\n",
    "\n",
    "GiftSizeCount\n"
   ]
  },
  {
   "cell_type": "code",
   "execution_count": null,
   "metadata": {},
   "outputs": [],
   "source": []
  },
  {
   "cell_type": "markdown",
   "metadata": {},
   "source": [
    "# Number of Donations Per Year"
   ]
  },
  {
   "cell_type": "code",
   "execution_count": 471,
   "metadata": {},
   "outputs": [
    {
     "data": {
      "text/html": [
       "<div>\n",
       "<style scoped>\n",
       "    .dataframe tbody tr th:only-of-type {\n",
       "        vertical-align: middle;\n",
       "    }\n",
       "\n",
       "    .dataframe tbody tr th {\n",
       "        vertical-align: top;\n",
       "    }\n",
       "\n",
       "    .dataframe thead th {\n",
       "        text-align: right;\n",
       "    }\n",
       "</style>\n",
       "<table border=\"1\" class=\"dataframe\">\n",
       "  <thead>\n",
       "    <tr style=\"text-align: right;\">\n",
       "      <th></th>\n",
       "      <th>account_id</th>\n",
       "      <th>tr_2010</th>\n",
       "      <th>tr_2011</th>\n",
       "      <th>tr_2012</th>\n",
       "      <th>tr_2013</th>\n",
       "      <th>tr_2014</th>\n",
       "      <th>tr_2015</th>\n",
       "      <th>tr_2016</th>\n",
       "      <th>tr_2017</th>\n",
       "    </tr>\n",
       "  </thead>\n",
       "  <tbody>\n",
       "    <tr>\n",
       "      <th>0</th>\n",
       "      <td>0013600000VCRPtAAP</td>\n",
       "      <td>nan</td>\n",
       "      <td>nan</td>\n",
       "      <td>nan</td>\n",
       "      <td>nan</td>\n",
       "      <td>25.0</td>\n",
       "      <td>25.0</td>\n",
       "      <td>25.0</td>\n",
       "      <td>nan</td>\n",
       "    </tr>\n",
       "    <tr>\n",
       "      <th>1</th>\n",
       "      <td>0013600000VDLBdAAP</td>\n",
       "      <td>nan</td>\n",
       "      <td>nan</td>\n",
       "      <td>nan</td>\n",
       "      <td>nan</td>\n",
       "      <td>nan</td>\n",
       "      <td>100.0</td>\n",
       "      <td>100.0</td>\n",
       "      <td>50.0</td>\n",
       "    </tr>\n",
       "    <tr>\n",
       "      <th>2</th>\n",
       "      <td>0013600000VAfvJAAT</td>\n",
       "      <td>nan</td>\n",
       "      <td>nan</td>\n",
       "      <td>nan</td>\n",
       "      <td>600.0</td>\n",
       "      <td>nan</td>\n",
       "      <td>250.0</td>\n",
       "      <td>250.0</td>\n",
       "      <td>100.0</td>\n",
       "    </tr>\n",
       "    <tr>\n",
       "      <th>3</th>\n",
       "      <td>0013600000VDKj4AAH</td>\n",
       "      <td>nan</td>\n",
       "      <td>nan</td>\n",
       "      <td>nan</td>\n",
       "      <td>nan</td>\n",
       "      <td>nan</td>\n",
       "      <td>1,000.0</td>\n",
       "      <td>450.0</td>\n",
       "      <td>700.0</td>\n",
       "    </tr>\n",
       "    <tr>\n",
       "      <th>4</th>\n",
       "      <td>0013600000blHyqAAE</td>\n",
       "      <td>nan</td>\n",
       "      <td>nan</td>\n",
       "      <td>nan</td>\n",
       "      <td>nan</td>\n",
       "      <td>nan</td>\n",
       "      <td>nan</td>\n",
       "      <td>1,000.0</td>\n",
       "      <td>5,000.0</td>\n",
       "    </tr>\n",
       "  </tbody>\n",
       "</table>\n",
       "</div>"
      ],
      "text/plain": [
       "           account_id  tr_2010  tr_2011  tr_2012  tr_2013  tr_2014  tr_2015  \\\n",
       "0  0013600000VCRPtAAP      nan      nan      nan      nan     25.0     25.0   \n",
       "1  0013600000VDLBdAAP      nan      nan      nan      nan      nan    100.0   \n",
       "2  0013600000VAfvJAAT      nan      nan      nan    600.0      nan    250.0   \n",
       "3  0013600000VDKj4AAH      nan      nan      nan      nan      nan  1,000.0   \n",
       "4  0013600000blHyqAAE      nan      nan      nan      nan      nan      nan   \n",
       "\n",
       "   tr_2016  tr_2017  \n",
       "0     25.0      nan  \n",
       "1    100.0     50.0  \n",
       "2    250.0    100.0  \n",
       "3    450.0    700.0  \n",
       "4  1,000.0  5,000.0  "
      ]
     },
     "execution_count": 471,
     "metadata": {},
     "output_type": "execute_result"
    }
   ],
   "source": [
    "RevenueGroupB = pd.read_sql(\"SELECT * FROM public.revenue_total_db\",conn)\n",
    "RevenueGroupB.head()"
   ]
  },
  {
   "cell_type": "code",
   "execution_count": 472,
   "metadata": {},
   "outputs": [
    {
     "data": {
      "text/html": [
       "<div>\n",
       "<style scoped>\n",
       "    .dataframe tbody tr th:only-of-type {\n",
       "        vertical-align: middle;\n",
       "    }\n",
       "\n",
       "    .dataframe tbody tr th {\n",
       "        vertical-align: top;\n",
       "    }\n",
       "\n",
       "    .dataframe thead th {\n",
       "        text-align: right;\n",
       "    }\n",
       "</style>\n",
       "<table border=\"1\" class=\"dataframe\">\n",
       "  <thead>\n",
       "    <tr style=\"text-align: right;\">\n",
       "      <th></th>\n",
       "      <th>account_id</th>\n",
       "      <th>tr_2010</th>\n",
       "      <th>tr_2011</th>\n",
       "      <th>tr_2012</th>\n",
       "      <th>tr_2013</th>\n",
       "      <th>tr_2014</th>\n",
       "      <th>tr_2015</th>\n",
       "      <th>tr_2016</th>\n",
       "      <th>tr_2017</th>\n",
       "    </tr>\n",
       "  </thead>\n",
       "  <tbody>\n",
       "    <tr>\n",
       "      <th>0</th>\n",
       "      <td>0013600000V973CAAR</td>\n",
       "      <td>22,780.0</td>\n",
       "      <td>30,345.0</td>\n",
       "      <td>5,100.0</td>\n",
       "      <td>0.0</td>\n",
       "      <td>0.0</td>\n",
       "      <td>0.0</td>\n",
       "      <td>0.0</td>\n",
       "      <td>0.0</td>\n",
       "    </tr>\n",
       "    <tr>\n",
       "      <th>1</th>\n",
       "      <td>0013600000V973GAAR</td>\n",
       "      <td>0.0</td>\n",
       "      <td>0.0</td>\n",
       "      <td>0.0</td>\n",
       "      <td>0.0</td>\n",
       "      <td>0.0</td>\n",
       "      <td>0.0</td>\n",
       "      <td>0.0</td>\n",
       "      <td>25,000.0</td>\n",
       "    </tr>\n",
       "    <tr>\n",
       "      <th>2</th>\n",
       "      <td>0013600000V973HAAR</td>\n",
       "      <td>0.0</td>\n",
       "      <td>0.0</td>\n",
       "      <td>0.0</td>\n",
       "      <td>0.0</td>\n",
       "      <td>495.17</td>\n",
       "      <td>0.0</td>\n",
       "      <td>0.0</td>\n",
       "      <td>0.0</td>\n",
       "    </tr>\n",
       "    <tr>\n",
       "      <th>3</th>\n",
       "      <td>0013600000V973MAAR</td>\n",
       "      <td>0.0</td>\n",
       "      <td>0.0</td>\n",
       "      <td>1,714,396.2</td>\n",
       "      <td>0.0</td>\n",
       "      <td>0.0</td>\n",
       "      <td>0.0</td>\n",
       "      <td>0.0</td>\n",
       "      <td>0.0</td>\n",
       "    </tr>\n",
       "    <tr>\n",
       "      <th>4</th>\n",
       "      <td>0013600000V9744AAB</td>\n",
       "      <td>0.0</td>\n",
       "      <td>0.0</td>\n",
       "      <td>0.0</td>\n",
       "      <td>40.0</td>\n",
       "      <td>0.0</td>\n",
       "      <td>0.0</td>\n",
       "      <td>48.0</td>\n",
       "      <td>0.0</td>\n",
       "    </tr>\n",
       "  </tbody>\n",
       "</table>\n",
       "</div>"
      ],
      "text/plain": [
       "           account_id  tr_2010  tr_2011     tr_2012  tr_2013  tr_2014  \\\n",
       "0  0013600000V973CAAR 22,780.0 30,345.0     5,100.0      0.0      0.0   \n",
       "1  0013600000V973GAAR      0.0      0.0         0.0      0.0      0.0   \n",
       "2  0013600000V973HAAR      0.0      0.0         0.0      0.0   495.17   \n",
       "3  0013600000V973MAAR      0.0      0.0 1,714,396.2      0.0      0.0   \n",
       "4  0013600000V9744AAB      0.0      0.0         0.0     40.0      0.0   \n",
       "\n",
       "   tr_2015  tr_2016  tr_2017  \n",
       "0      0.0      0.0      0.0  \n",
       "1      0.0      0.0 25,000.0  \n",
       "2      0.0      0.0      0.0  \n",
       "3      0.0      0.0      0.0  \n",
       "4      0.0     48.0      0.0  "
      ]
     },
     "execution_count": 472,
     "metadata": {},
     "output_type": "execute_result"
    }
   ],
   "source": [
    "RevenueGroupA = pd.read_sql(\"SELECT * FROM revenue_total\",conn)\n",
    "RevenueGroupA.head()"
   ]
  },
  {
   "cell_type": "code",
   "execution_count": 473,
   "metadata": {},
   "outputs": [
    {
     "data": {
      "text/plain": [
       "403828"
      ]
     },
     "execution_count": 473,
     "metadata": {},
     "output_type": "execute_result"
    }
   ],
   "source": [
    "# Total number of donors per year \n",
    "totaldonors= RevenueGroupA[\"account_id\"].count()\n",
    "totaldonors\n"
   ]
  },
  {
   "cell_type": "code",
   "execution_count": 474,
   "metadata": {},
   "outputs": [
    {
     "data": {
      "text/plain": [
       "48108"
      ]
     },
     "execution_count": 474,
     "metadata": {},
     "output_type": "execute_result"
    }
   ],
   "source": [
    "#Total number of donations per year\n",
    "DonationsCount2010=RevenueGroupA['tr_2010'].astype(bool).sum(axis=0)\n",
    "\n",
    "DonationsCount2010"
   ]
  },
  {
   "cell_type": "code",
   "execution_count": 475,
   "metadata": {},
   "outputs": [
    {
     "data": {
      "text/plain": [
       "51693"
      ]
     },
     "execution_count": 475,
     "metadata": {},
     "output_type": "execute_result"
    }
   ],
   "source": [
    "DonationsCount2011=RevenueGroupA['tr_2011'].astype(bool).sum(axis=0)\n",
    "DonationsCount2011"
   ]
  },
  {
   "cell_type": "code",
   "execution_count": 476,
   "metadata": {},
   "outputs": [
    {
     "data": {
      "text/plain": [
       "57463"
      ]
     },
     "execution_count": 476,
     "metadata": {},
     "output_type": "execute_result"
    }
   ],
   "source": [
    "DonationsCount2012=RevenueGroupA['tr_2012'].astype(bool).sum(axis=0)\n",
    "DonationsCount2012"
   ]
  },
  {
   "cell_type": "code",
   "execution_count": 477,
   "metadata": {},
   "outputs": [
    {
     "data": {
      "text/plain": [
       "56040"
      ]
     },
     "execution_count": 477,
     "metadata": {},
     "output_type": "execute_result"
    }
   ],
   "source": [
    "DonationsCount2013=RevenueGroupA['tr_2013'].astype(bool).sum(axis=0)\n",
    "DonationsCount2013"
   ]
  },
  {
   "cell_type": "code",
   "execution_count": 478,
   "metadata": {},
   "outputs": [
    {
     "data": {
      "text/plain": [
       "65957"
      ]
     },
     "execution_count": 478,
     "metadata": {},
     "output_type": "execute_result"
    }
   ],
   "source": [
    "DonationsCount2014=RevenueGroupA['tr_2014'].astype(bool).sum(axis=0)\n",
    "DonationsCount2014"
   ]
  },
  {
   "cell_type": "code",
   "execution_count": 479,
   "metadata": {},
   "outputs": [
    {
     "data": {
      "text/plain": [
       "77814"
      ]
     },
     "execution_count": 479,
     "metadata": {},
     "output_type": "execute_result"
    }
   ],
   "source": [
    "DonationsCount2015=RevenueGroupA['tr_2015'].astype(bool).sum(axis=0)\n",
    "DonationsCount2015"
   ]
  },
  {
   "cell_type": "code",
   "execution_count": 480,
   "metadata": {},
   "outputs": [
    {
     "data": {
      "text/plain": [
       "84422"
      ]
     },
     "execution_count": 480,
     "metadata": {},
     "output_type": "execute_result"
    }
   ],
   "source": [
    "DonationsCount2016=RevenueGroupA['tr_2016'].astype(bool).sum(axis=0)\n",
    "DonationsCount2016"
   ]
  },
  {
   "cell_type": "code",
   "execution_count": 481,
   "metadata": {},
   "outputs": [
    {
     "data": {
      "text/plain": [
       "92291"
      ]
     },
     "execution_count": 481,
     "metadata": {},
     "output_type": "execute_result"
    }
   ],
   "source": [
    "DonationsCount2017=RevenueGroupA['tr_2017'].astype(bool).sum(axis=0)\n",
    "DonationsCount2017"
   ]
  },
  {
   "cell_type": "code",
   "execution_count": 482,
   "metadata": {},
   "outputs": [
    {
     "data": {
      "text/html": [
       "<div>\n",
       "<style scoped>\n",
       "    .dataframe tbody tr th:only-of-type {\n",
       "        vertical-align: middle;\n",
       "    }\n",
       "\n",
       "    .dataframe tbody tr th {\n",
       "        vertical-align: top;\n",
       "    }\n",
       "\n",
       "    .dataframe thead th {\n",
       "        text-align: right;\n",
       "    }\n",
       "</style>\n",
       "<table border=\"1\" class=\"dataframe\">\n",
       "  <thead>\n",
       "    <tr style=\"text-align: right;\">\n",
       "      <th></th>\n",
       "      <th>YR2010</th>\n",
       "      <th>YR2011</th>\n",
       "      <th>YR2012</th>\n",
       "      <th>YR2013</th>\n",
       "      <th>YR2014</th>\n",
       "      <th>YR2015</th>\n",
       "      <th>YR2016</th>\n",
       "      <th>YR2017</th>\n",
       "    </tr>\n",
       "  </thead>\n",
       "  <tbody>\n",
       "    <tr>\n",
       "      <th>Total Number of Donations</th>\n",
       "      <td>48108</td>\n",
       "      <td>51693</td>\n",
       "      <td>57463</td>\n",
       "      <td>56040</td>\n",
       "      <td>65957</td>\n",
       "      <td>77814</td>\n",
       "      <td>84422</td>\n",
       "      <td>92291</td>\n",
       "    </tr>\n",
       "  </tbody>\n",
       "</table>\n",
       "</div>"
      ],
      "text/plain": [
       "                           YR2010  YR2011  YR2012  YR2013  YR2014  YR2015  \\\n",
       "Total Number of Donations   48108   51693   57463   56040   65957   77814   \n",
       "\n",
       "                           YR2016  YR2017  \n",
       "Total Number of Donations   84422   92291  "
      ]
     },
     "execution_count": 482,
     "metadata": {},
     "output_type": "execute_result"
    }
   ],
   "source": [
    "Index = ['Total Number of Donations']\n",
    "DonationsCountAll = pd.DataFrame({\n",
    "                            \"YR2010\": DonationsCount2010,\n",
    "                             \"YR2011\": DonationsCount2011,\n",
    "                           \"YR2012\": DonationsCount2012,\n",
    "                             \"YR2013\": DonationsCount2013,\n",
    "                             \"YR2014\": DonationsCount2014,\n",
    "                             \"YR2015\": DonationsCount2015,\n",
    "                             \"YR2016\": DonationsCount2016,\n",
    "                             \"YR2017\": DonationsCount2017\n",
    "}, index=[Index])\n",
    "\n",
    "DonationsCountAll\n"
   ]
  },
  {
   "cell_type": "markdown",
   "metadata": {},
   "source": [
    "# Customer Retention Rate\n"
   ]
  },
  {
   "cell_type": "code",
   "execution_count": 483,
   "metadata": {},
   "outputs": [
    {
     "data": {
      "text/plain": [
       "11.912992660241489"
      ]
     },
     "execution_count": 483,
     "metadata": {},
     "output_type": "execute_result"
    }
   ],
   "source": [
    "CustomerRetention2011=(((DonationsCount2011-(DonationsCount2011-DonationsCount2010))/totaldonors))*100\n",
    "CustomerRetention2011"
   ]
  },
  {
   "cell_type": "code",
   "execution_count": 484,
   "metadata": {},
   "outputs": [
    {
     "data": {
      "text/plain": [
       "12.800746852620422"
      ]
     },
     "execution_count": 484,
     "metadata": {},
     "output_type": "execute_result"
    }
   ],
   "source": [
    "CustomerRetention2012=(((DonationsCount2012-(DonationsCount2012-DonationsCount2011))/totaldonors))*100\n",
    "CustomerRetention2012"
   ]
  },
  {
   "cell_type": "code",
   "execution_count": 485,
   "metadata": {},
   "outputs": [
    {
     "data": {
      "text/plain": [
       "14.229572986519013"
      ]
     },
     "execution_count": 485,
     "metadata": {},
     "output_type": "execute_result"
    }
   ],
   "source": [
    "CustomerRetention2013=(((DonationsCount2013-(DonationsCount2013-DonationsCount2012))/totaldonors))*100\n",
    "CustomerRetention2013"
   ]
  },
  {
   "cell_type": "code",
   "execution_count": 486,
   "metadata": {},
   "outputs": [
    {
     "data": {
      "text/plain": [
       "13.877195241538477"
      ]
     },
     "execution_count": 486,
     "metadata": {},
     "output_type": "execute_result"
    }
   ],
   "source": [
    "CustomerRetention2014=(((DonationsCount2014-(DonationsCount2014-DonationsCount2013))/totaldonors))*100\n",
    "CustomerRetention2014"
   ]
  },
  {
   "cell_type": "code",
   "execution_count": 487,
   "metadata": {},
   "outputs": [
    {
     "data": {
      "text/plain": [
       "16.33294372851808"
      ]
     },
     "execution_count": 487,
     "metadata": {},
     "output_type": "execute_result"
    }
   ],
   "source": [
    "CustomerRetention2015=(((DonationsCount2015-(DonationsCount2015-DonationsCount2014))/totaldonors))*100\n",
    "CustomerRetention2015"
   ]
  },
  {
   "cell_type": "code",
   "execution_count": 488,
   "metadata": {},
   "outputs": [
    {
     "data": {
      "text/plain": [
       "19.26909476311697"
      ]
     },
     "execution_count": 488,
     "metadata": {},
     "output_type": "execute_result"
    }
   ],
   "source": [
    "CustomerRetention2016=(((DonationsCount2016-(DonationsCount2016-DonationsCount2015))/totaldonors))*100\n",
    "CustomerRetention2016"
   ]
  },
  {
   "cell_type": "code",
   "execution_count": 489,
   "metadata": {},
   "outputs": [
    {
     "data": {
      "text/plain": [
       "20.905434987172757"
      ]
     },
     "execution_count": 489,
     "metadata": {},
     "output_type": "execute_result"
    }
   ],
   "source": [
    "CustomerRetention2017=(((DonationsCount2017-(DonationsCount2017-DonationsCount2016))/totaldonors))*100\n",
    "CustomerRetention2017"
   ]
  },
  {
   "cell_type": "code",
   "execution_count": 490,
   "metadata": {},
   "outputs": [
    {
     "data": {
      "text/html": [
       "<div>\n",
       "<style scoped>\n",
       "    .dataframe tbody tr th:only-of-type {\n",
       "        vertical-align: middle;\n",
       "    }\n",
       "\n",
       "    .dataframe tbody tr th {\n",
       "        vertical-align: top;\n",
       "    }\n",
       "\n",
       "    .dataframe thead th {\n",
       "        text-align: right;\n",
       "    }\n",
       "</style>\n",
       "<table border=\"1\" class=\"dataframe\">\n",
       "  <thead>\n",
       "    <tr style=\"text-align: right;\">\n",
       "      <th></th>\n",
       "      <th>YR2010</th>\n",
       "      <th>YR2011</th>\n",
       "      <th>YR2012</th>\n",
       "      <th>YR2013</th>\n",
       "      <th>YR2014</th>\n",
       "      <th>YR2015</th>\n",
       "      <th>YR2016</th>\n",
       "      <th>YR2017</th>\n",
       "    </tr>\n",
       "  </thead>\n",
       "  <tbody>\n",
       "    <tr>\n",
       "      <th>Rate (%)</th>\n",
       "      <td>0</td>\n",
       "      <td>11.91</td>\n",
       "      <td>12.8</td>\n",
       "      <td>14.23</td>\n",
       "      <td>13.88</td>\n",
       "      <td>16.33</td>\n",
       "      <td>19.27</td>\n",
       "      <td>20.91</td>\n",
       "    </tr>\n",
       "  </tbody>\n",
       "</table>\n",
       "</div>"
      ],
      "text/plain": [
       "          YR2010  YR2011  YR2012  YR2013  YR2014  YR2015  YR2016  YR2017\n",
       "Rate (%)       0   11.91    12.8   14.23   13.88   16.33   19.27   20.91"
      ]
     },
     "execution_count": 490,
     "metadata": {},
     "output_type": "execute_result"
    }
   ],
   "source": [
    "Index = ['Rate (%)']\n",
    "DonationsCountAll = pd.DataFrame({\n",
    "                            \"YR2010\": 0,\n",
    "                             \"YR2011\": CustomerRetention2011,\n",
    "                           \"YR2012\": CustomerRetention2012,\n",
    "                             \"YR2013\": CustomerRetention2013,\n",
    "                             \"YR2014\": CustomerRetention2014,\n",
    "                             \"YR2015\": CustomerRetention2015,\n",
    "                             \"YR2016\": CustomerRetention2016,\n",
    "                             \"YR2017\": CustomerRetention2017\n",
    "}, index=[Index])\n",
    "\n",
    "DonationsCountAll.round(decimals=2)"
   ]
  },
  {
   "cell_type": "code",
   "execution_count": 491,
   "metadata": {},
   "outputs": [
    {
     "data": {
      "image/png": "[encoded data removed]",
      "text/plain": [
       "<Figure size 720x360 with 2 Axes>"
      ]
     },
     "metadata": {
      "needs_background": "light"
     },
     "output_type": "display_data"
    },
    {
     "data": {
      "text/plain": [
       "<Figure size 432x288 with 0 Axes>"
      ]
     },
     "metadata": {},
     "output_type": "display_data"
    }
   ],
   "source": [
    "plt.figure(figsize = (10,5))\n",
    "plt.title('Cohort Analysis - Customer Retention Rate')\n",
    "sns.heatmap(data = DonationsCountAll,\n",
    "            annot = True, \n",
    "            cmap = \"Blues\")\n",
    "plt.show()\n",
    "\n",
    "plt.savefig('Cohort Analysis - Customer Retention Rate.png')"
   ]
  },
  {
   "cell_type": "markdown",
   "metadata": {},
   "source": [
    "# Dollar Retention Rate"
   ]
  },
  {
   "cell_type": "code",
   "execution_count": 492,
   "metadata": {},
   "outputs": [
    {
     "data": {
      "text/plain": [
       "15.50803408444357"
      ]
     },
     "execution_count": 492,
     "metadata": {},
     "output_type": "execute_result"
    }
   ],
   "source": [
    "RetentionRate2011 = ((TotalRevenue2011 - TotalRevenue2010)/TotalRevenue2010)*100\n",
    "RetentionRate2011"
   ]
  },
  {
   "cell_type": "code",
   "execution_count": 438,
   "metadata": {},
   "outputs": [
    {
     "data": {
      "text/plain": [
       "42.25802555510527"
      ]
     },
     "execution_count": 438,
     "metadata": {},
     "output_type": "execute_result"
    }
   ],
   "source": [
    "RetentionRate2012 = ((TotalRevenue2012 - TotalRevenue2011)/TotalRevenue2011)*100\n",
    "RetentionRate2012"
   ]
  },
  {
   "cell_type": "code",
   "execution_count": 439,
   "metadata": {},
   "outputs": [
    {
     "data": {
      "text/plain": [
       "14.626541875169034"
      ]
     },
     "execution_count": 439,
     "metadata": {},
     "output_type": "execute_result"
    }
   ],
   "source": [
    "RetentionRate2013 = ((TotalRevenue2013 - TotalRevenue2012)/TotalRevenue2012)*100\n",
    "RetentionRate2013"
   ]
  },
  {
   "cell_type": "code",
   "execution_count": 440,
   "metadata": {},
   "outputs": [
    {
     "data": {
      "text/plain": [
       "-9.32669021671862"
      ]
     },
     "execution_count": 440,
     "metadata": {},
     "output_type": "execute_result"
    }
   ],
   "source": [
    "RetentionRate2014 = ((TotalRevenue2014 - TotalRevenue2013)/TotalRevenue2013)*100\n",
    "RetentionRate2014"
   ]
  },
  {
   "cell_type": "code",
   "execution_count": 441,
   "metadata": {},
   "outputs": [
    {
     "data": {
      "text/plain": [
       "5.444244476908168"
      ]
     },
     "execution_count": 441,
     "metadata": {},
     "output_type": "execute_result"
    }
   ],
   "source": [
    "RetentionRate2015 = ((TotalRevenue2015 - TotalRevenue2014)/TotalRevenue2014)*100\n",
    "RetentionRate2015"
   ]
  },
  {
   "cell_type": "code",
   "execution_count": 442,
   "metadata": {},
   "outputs": [
    {
     "data": {
      "text/plain": [
       "3.9510962154046885"
      ]
     },
     "execution_count": 442,
     "metadata": {},
     "output_type": "execute_result"
    }
   ],
   "source": [
    "RetentionRate2016 = (((TotalRevenue2016 - TotalRevenue2015))/TotalRevenue2015)*100\n",
    "RetentionRate2016"
   ]
  },
  {
   "cell_type": "code",
   "execution_count": 443,
   "metadata": {},
   "outputs": [
    {
     "data": {
      "text/plain": [
       "-12.039821633392465"
      ]
     },
     "execution_count": 443,
     "metadata": {},
     "output_type": "execute_result"
    }
   ],
   "source": [
    "RetentionRate2017 = ((TotalRevenue2017 - TotalRevenue2016)/TotalRevenue2016)*100\n",
    "RetentionRate2017"
   ]
  },
  {
   "cell_type": "code",
   "execution_count": 444,
   "metadata": {},
   "outputs": [
    {
     "data": {
      "text/html": [
       "<div>\n",
       "<style scoped>\n",
       "    .dataframe tbody tr th:only-of-type {\n",
       "        vertical-align: middle;\n",
       "    }\n",
       "\n",
       "    .dataframe tbody tr th {\n",
       "        vertical-align: top;\n",
       "    }\n",
       "\n",
       "    .dataframe thead th {\n",
       "        text-align: right;\n",
       "    }\n",
       "</style>\n",
       "<table border=\"1\" class=\"dataframe\">\n",
       "  <thead>\n",
       "    <tr style=\"text-align: right;\">\n",
       "      <th></th>\n",
       "      <th>YR2010</th>\n",
       "      <th>YR2011</th>\n",
       "      <th>YR2012</th>\n",
       "      <th>YR2013</th>\n",
       "      <th>YR2014</th>\n",
       "      <th>YR2015</th>\n",
       "      <th>YR2016</th>\n",
       "      <th>YR2017</th>\n",
       "    </tr>\n",
       "  </thead>\n",
       "  <tbody>\n",
       "    <tr>\n",
       "      <th>Rate (%)</th>\n",
       "      <td>0</td>\n",
       "      <td>15.51</td>\n",
       "      <td>42.26</td>\n",
       "      <td>14.63</td>\n",
       "      <td>-9.33</td>\n",
       "      <td>5.44</td>\n",
       "      <td>3.95</td>\n",
       "      <td>-12.04</td>\n",
       "    </tr>\n",
       "  </tbody>\n",
       "</table>\n",
       "</div>"
      ],
      "text/plain": [
       "          YR2010  YR2011  YR2012  YR2013  YR2014  YR2015  YR2016  YR2017\n",
       "Rate (%)       0   15.51   42.26   14.63   -9.33    5.44    3.95  -12.04"
      ]
     },
     "execution_count": 444,
     "metadata": {},
     "output_type": "execute_result"
    }
   ],
   "source": [
    "Index = [ 'Rate (%)']\n",
    "RetentionRate = pd.DataFrame({\n",
    "                            \"YR2010\": [0],\n",
    "                             \"YR2011\": [RetentionRate2011],\n",
    "                           \"YR2012\": [RetentionRate2012],\n",
    "                             \"YR2013\": [RetentionRate2013],\n",
    "                             \"YR2014\": [RetentionRate2014],\n",
    "                             \"YR2015\": [RetentionRate2015],\n",
    "                             \"YR2016\": [RetentionRate2016],\n",
    "                             \"YR2017\": [RetentionRate2017],\n",
    "}, index=[Index])\n",
    "\n",
    "\n",
    "RetentionRate.round(decimals=2)"
   ]
  },
  {
   "cell_type": "code",
   "execution_count": 445,
   "metadata": {},
   "outputs": [
    {
     "data": {
      "image/png": "[encoded data removed]",
      "text/plain": [
       "<Figure size 720x360 with 2 Axes>"
      ]
     },
     "metadata": {
      "needs_background": "light"
     },
     "output_type": "display_data"
    },
    {
     "data": {
      "text/plain": [
       "<Figure size 432x288 with 0 Axes>"
      ]
     },
     "metadata": {},
     "output_type": "display_data"
    }
   ],
   "source": [
    "plt.figure(figsize = (10,5))\n",
    "plt.title('Cohort Analysis - Dollar Retention Rate')\n",
    "sns.heatmap(data = RetentionRate, \n",
    "            annot = True, \n",
    "            cmap = \"Blues\")\n",
    "plt.show()\n",
    "plt.savefig(\"Cohort Analysis - Dollar Retention Rate.png\")"
   ]
  },
  {
   "cell_type": "code",
   "execution_count": 446,
   "metadata": {},
   "outputs": [
    {
     "data": {
      "text/html": [
       "<div>\n",
       "<style scoped>\n",
       "    .dataframe tbody tr th:only-of-type {\n",
       "        vertical-align: middle;\n",
       "    }\n",
       "\n",
       "    .dataframe tbody tr th {\n",
       "        vertical-align: top;\n",
       "    }\n",
       "\n",
       "    .dataframe thead th {\n",
       "        text-align: right;\n",
       "    }\n",
       "</style>\n",
       "<table border=\"1\" class=\"dataframe\">\n",
       "  <thead>\n",
       "    <tr style=\"text-align: right;\">\n",
       "      <th></th>\n",
       "      <th>account_id</th>\n",
       "      <th>tr_2013</th>\n",
       "      <th>tr_2014</th>\n",
       "      <th>tr_2015</th>\n",
       "      <th>tr_2016</th>\n",
       "      <th>tr_2017</th>\n",
       "    </tr>\n",
       "  </thead>\n",
       "  <tbody>\n",
       "    <tr>\n",
       "      <th>0</th>\n",
       "      <td>0013600000VCKeuAAH</td>\n",
       "      <td>1,000.0</td>\n",
       "      <td>1,000.0</td>\n",
       "      <td>1,000.0</td>\n",
       "      <td>1,000.0</td>\n",
       "      <td>1,000.0</td>\n",
       "    </tr>\n",
       "    <tr>\n",
       "      <th>1</th>\n",
       "      <td>0013600000VAMdTAAX</td>\n",
       "      <td>2,000.0</td>\n",
       "      <td>2,000.0</td>\n",
       "      <td>2,000.0</td>\n",
       "      <td>2,000.0</td>\n",
       "      <td>2,000.0</td>\n",
       "    </tr>\n",
       "    <tr>\n",
       "      <th>2</th>\n",
       "      <td>0013600000VAMeOAAX</td>\n",
       "      <td>2,000.0</td>\n",
       "      <td>2,000.0</td>\n",
       "      <td>2,000.0</td>\n",
       "      <td>2,300.0</td>\n",
       "      <td>2,800.0</td>\n",
       "    </tr>\n",
       "    <tr>\n",
       "      <th>3</th>\n",
       "      <td>0013600000VAdNIAA1</td>\n",
       "      <td>3,000.0</td>\n",
       "      <td>3,500.0</td>\n",
       "      <td>3,500.0</td>\n",
       "      <td>4,000.0</td>\n",
       "      <td>4,000.0</td>\n",
       "    </tr>\n",
       "    <tr>\n",
       "      <th>4</th>\n",
       "      <td>0013600000VAPYaAAP</td>\n",
       "      <td>1,502.39</td>\n",
       "      <td>1,523.55</td>\n",
       "      <td>1,617.42</td>\n",
       "      <td>2,027.6</td>\n",
       "      <td>2,180.7</td>\n",
       "    </tr>\n",
       "  </tbody>\n",
       "</table>\n",
       "</div>"
      ],
      "text/plain": [
       "           account_id  tr_2013  tr_2014  tr_2015  tr_2016  tr_2017\n",
       "0  0013600000VCKeuAAH  1,000.0  1,000.0  1,000.0  1,000.0  1,000.0\n",
       "1  0013600000VAMdTAAX  2,000.0  2,000.0  2,000.0  2,000.0  2,000.0\n",
       "2  0013600000VAMeOAAX  2,000.0  2,000.0  2,000.0  2,300.0  2,800.0\n",
       "3  0013600000VAdNIAA1  3,000.0  3,500.0  3,500.0  4,000.0  4,000.0\n",
       "4  0013600000VAPYaAAP 1,502.39 1,523.55 1,617.42  2,027.6  2,180.7"
      ]
     },
     "execution_count": 446,
     "metadata": {},
     "output_type": "execute_result"
    }
   ],
   "source": [
    "#Summary of Accounts that continued to lower their amount with every annual donation\n",
    "\n",
    "revenueinc2013_2017 = pd.read_sql(\"SELECT * FROM revenueinc2013_2017\",conn)\n",
    "revenueinc2013_2017.head()"
   ]
  },
  {
   "cell_type": "code",
   "execution_count": 447,
   "metadata": {},
   "outputs": [
    {
     "data": {
      "text/html": [
       "<div>\n",
       "<style scoped>\n",
       "    .dataframe tbody tr th:only-of-type {\n",
       "        vertical-align: middle;\n",
       "    }\n",
       "\n",
       "    .dataframe tbody tr th {\n",
       "        vertical-align: top;\n",
       "    }\n",
       "\n",
       "    .dataframe thead th {\n",
       "        text-align: right;\n",
       "    }\n",
       "</style>\n",
       "<table border=\"1\" class=\"dataframe\">\n",
       "  <thead>\n",
       "    <tr style=\"text-align: right;\">\n",
       "      <th></th>\n",
       "      <th>tr_2013</th>\n",
       "      <th>tr_2014</th>\n",
       "      <th>tr_2015</th>\n",
       "      <th>tr_2016</th>\n",
       "      <th>tr_2017</th>\n",
       "    </tr>\n",
       "  </thead>\n",
       "  <tbody>\n",
       "    <tr>\n",
       "      <th>count</th>\n",
       "      <td>2,279.0</td>\n",
       "      <td>2,279.0</td>\n",
       "      <td>2,279.0</td>\n",
       "      <td>2,279.0</td>\n",
       "      <td>2,279.0</td>\n",
       "    </tr>\n",
       "    <tr>\n",
       "      <th>mean</th>\n",
       "      <td>46,675.22</td>\n",
       "      <td>52,982.91</td>\n",
       "      <td>72,825.31</td>\n",
       "      <td>79,130.06</td>\n",
       "      <td>114,649.1</td>\n",
       "    </tr>\n",
       "    <tr>\n",
       "      <th>std</th>\n",
       "      <td>157,235.46</td>\n",
       "      <td>167,470.59</td>\n",
       "      <td>235,621.4</td>\n",
       "      <td>252,034.72</td>\n",
       "      <td>465,522.42</td>\n",
       "    </tr>\n",
       "    <tr>\n",
       "      <th>min</th>\n",
       "      <td>1,000.0</td>\n",
       "      <td>1,000.0</td>\n",
       "      <td>1,000.0</td>\n",
       "      <td>1,000.0</td>\n",
       "      <td>1,000.0</td>\n",
       "    </tr>\n",
       "    <tr>\n",
       "      <th>25%</th>\n",
       "      <td>1,000.0</td>\n",
       "      <td>1,000.0</td>\n",
       "      <td>1,000.0</td>\n",
       "      <td>1,200.0</td>\n",
       "      <td>1,500.0</td>\n",
       "    </tr>\n",
       "    <tr>\n",
       "      <th>50%</th>\n",
       "      <td>2,000.0</td>\n",
       "      <td>2,500.0</td>\n",
       "      <td>3,000.0</td>\n",
       "      <td>3,000.0</td>\n",
       "      <td>3,000.0</td>\n",
       "    </tr>\n",
       "    <tr>\n",
       "      <th>75%</th>\n",
       "      <td>5,000.0</td>\n",
       "      <td>9,211.0</td>\n",
       "      <td>10,000.0</td>\n",
       "      <td>10,000.0</td>\n",
       "      <td>15,000.0</td>\n",
       "    </tr>\n",
       "    <tr>\n",
       "      <th>max</th>\n",
       "      <td>1,100,000.0</td>\n",
       "      <td>1,100,000.0</td>\n",
       "      <td>1,108,340.0</td>\n",
       "      <td>1,197,500.0</td>\n",
       "      <td>4,100,000.0</td>\n",
       "    </tr>\n",
       "  </tbody>\n",
       "</table>\n",
       "</div>"
      ],
      "text/plain": [
       "          tr_2013     tr_2014     tr_2015     tr_2016     tr_2017\n",
       "count     2,279.0     2,279.0     2,279.0     2,279.0     2,279.0\n",
       "mean    46,675.22   52,982.91   72,825.31   79,130.06   114,649.1\n",
       "std    157,235.46  167,470.59   235,621.4  252,034.72  465,522.42\n",
       "min       1,000.0     1,000.0     1,000.0     1,000.0     1,000.0\n",
       "25%       1,000.0     1,000.0     1,000.0     1,200.0     1,500.0\n",
       "50%       2,000.0     2,500.0     3,000.0     3,000.0     3,000.0\n",
       "75%       5,000.0     9,211.0    10,000.0    10,000.0    15,000.0\n",
       "max   1,100,000.0 1,100,000.0 1,108,340.0 1,197,500.0 4,100,000.0"
      ]
     },
     "execution_count": 447,
     "metadata": {},
     "output_type": "execute_result"
    }
   ],
   "source": [
    "#Summary of Accounts that continued to donate a higher amount compared to the previous year\n",
    "\n",
    "revenueInc2013_2017=revenueinc2013_2017.describe()\n",
    "revenueInc2013_2017.round(decimals=2)"
   ]
  },
  {
   "cell_type": "code",
   "execution_count": 448,
   "metadata": {},
   "outputs": [],
   "source": []
  },
  {
   "cell_type": "code",
   "execution_count": 449,
   "metadata": {},
   "outputs": [],
   "source": []
  },
  {
   "cell_type": "code",
   "execution_count": null,
   "metadata": {},
   "outputs": [],
   "source": []
  }
 ],
 "metadata": {
  "kernelspec": {
   "display_name": "Python 3",
   "language": "python",
   "name": "python3"
  },
  "language_info": {
   "codemirror_mode": {
    "name": "ipython",
    "version": 3
   },
   "file_extension": ".py",
   "mimetype": "text/x-python",
   "name": "python",
   "nbconvert_exporter": "python",
   "pygments_lexer": "ipython3",
   "version": "3.7.3"
  }
 },
 "nbformat": 4,
 "nbformat_minor": 2
}
